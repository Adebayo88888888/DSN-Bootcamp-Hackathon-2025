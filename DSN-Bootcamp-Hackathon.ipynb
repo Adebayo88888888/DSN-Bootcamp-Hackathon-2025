{
 "cells": [
  {
   "cell_type": "markdown",
   "metadata": {
    "id": "xz5eC7AIa8sl"
   },
   "source": [
    "# Used Car Price Prediction\n",
    "\n",
    "### Introduction\n",
    "\n",
    "\n",
    "The primary goal of this competition is to achieve a low **Root Mean Squared Error (RMSE)**, the evaluation metric for this hackathon.\n",
    "\n",
    "\n",
    "### Dataset Overview\n",
    "\n",
    "The competition provides two main files:\n",
    "\n",
    "* **`train.csv`**: The training dataset, which includes the `price` column which is the target variable.\n",
    "* **`test.csv`**: The test dataset, which does not include `price` , and we have to predict the price for each car.\n",
    "\n",
    "\n",
    "### Metadata\n",
    "\n",
    "`Brand & Model` : Identify the brand or company name along with the specific model of each vehicle.\n",
    "\n",
    "`Model Year` : Discover the manufacturing year of the vehicles, crucial for assessing depreciation and technology advancements.\n",
    "\n",
    "`Mileage` : Obtain the mileage of each vehicle, a key indicator of wear and tear and potential maintenance requirements.\n",
    "\n",
    "`Fuel Type` : Learn about the type of fuel the vehicles run on, whether it's gasoline, diesel, electric, or hybrid.\n",
    "\n",
    "`Engine Type` : Understand the engine specifications, shedding light on performance and efficiency.\n",
    "\n",
    "`Transmission` : Determine the transmission type, whether automatic, manual, or another variant.\n",
    "\n",
    "`Exterior & Interior Colors` : Explore the aesthetic aspects of the vehicles, including exterior and interior color options.\n",
    "\n",
    "`Accident History` : Discover whether a vehicle has a prior history of accidents or damage, crucial for informed decision-making.\n",
    "\n",
    "`Clean Title` : Evaluate the availability of a clean title, which can impact the vehicle's resale value and legal status.\n",
    "\n",
    "`Price` : Access the listed prices for each vehicle, aiding in price comparison and budgeting.\n",
    "\n",
    "\n",
    "### Note: \n",
    "This dataset is a valuable resource for automotive enthusiasts, buyers, and researchers interested in analyzing trends, making informed purchasing decisions or conducting studies related to the automotive industry and consumer preferences."
   ]
  },
  {
   "cell_type": "markdown",
   "metadata": {},
   "source": [
    "### Import necessary libraries"
   ]
  },
  {
   "cell_type": "code",
   "execution_count": 7,
   "metadata": {
    "id": "c_btSAkd7Bip"
   },
   "outputs": [],
   "source": [
    "# === Data Handling & Exploration ===\n",
    "import pandas as pd\n",
    "import numpy as np\n",
    "\n",
    "# === Visualization ===\n",
    "import matplotlib.pyplot as plt\n",
    "import seaborn as sns\n",
    "import plotly.express as px\n",
    "\n",
    "# === Preprocessing & Feature Engineering ===\n",
    "from sklearn.preprocessing import (\n",
    "    LabelEncoder, OneHotEncoder, StandardScaler, MinMaxScaler\n",
    ")\n",
    "from sklearn.model_selection import (\n",
    "    train_test_split, KFold, StratifiedKFold, cross_val_score\n",
    ")\n",
    "from sklearn.metrics import mean_squared_error\n",
    "from dateutil import parser\n",
    "import nltk\n",
    "\n",
    "# === Modeling: Traditional ML ===\n",
    "from sklearn.linear_model import LinearRegression, Ridge, Lasso, ElasticNet\n",
    "from sklearn.ensemble import RandomForestRegressor, GradientBoostingRegressor, ExtraTreesRegressor\n",
    "from sklearn.neighbors import KNeighborsRegressor\n",
    "from sklearn.svm import SVR\n",
    "\n",
    "# === Gradient Boosting Libraries ===\n",
    "import xgboost as xgb\n",
    "#import lightgbm as lgb\n",
    "#import catboost as cb\n",
    "\n",
    "# === Ensembling & Stacking ===\n",
    "from sklearn.ensemble import StackingRegressor, VotingRegressor\n",
    "#from mlxtend.regressor import StackingCVRegressor\n",
    "\n",
    "# === Hyperparameter Tuning ===\n",
    "from sklearn.model_selection import GridSearchCV, RandomizedSearchCV\n",
    "\n",
    "# === Utilities ===\n",
    "from tqdm import tqdm\n",
    "import joblib\n",
    "import pickle\n",
    "import warnings\n",
    "warnings.filterwarnings(\"ignore\")"
   ]
  },
  {
   "cell_type": "markdown",
   "metadata": {
    "id": "wM3os_6X3nch"
   },
   "source": [
    "###  Loading Dataset\n"
   ]
  },
  {
   "cell_type": "code",
   "execution_count": 9,
   "metadata": {
    "id": "PJWKPELQZZ32"
   },
   "outputs": [],
   "source": [
    "train_df = pd.read_csv(r'C:\\Users\\user\\Downloads\\hackathon-qualification\\train.csv')\n",
    "test_df = pd.read_csv(r'C:\\Users\\user\\Downloads\\hackathon-qualification\\test.csv')"
   ]
  },
  {
   "cell_type": "code",
   "execution_count": 9,
   "metadata": {
    "colab": {
     "base_uri": "https://localhost:8080/",
     "height": 244
    },
    "id": "I2A6y6cO3maw",
    "outputId": "6f9d5617-f120-4245-9184-d8cce6d2249a"
   },
   "outputs": [
    {
     "data": {
      "text/html": [
       "<div>\n",
       "<style scoped>\n",
       "    .dataframe tbody tr th:only-of-type {\n",
       "        vertical-align: middle;\n",
       "    }\n",
       "\n",
       "    .dataframe tbody tr th {\n",
       "        vertical-align: top;\n",
       "    }\n",
       "\n",
       "    .dataframe thead th {\n",
       "        text-align: right;\n",
       "    }\n",
       "</style>\n",
       "<table border=\"1\" class=\"dataframe\">\n",
       "  <thead>\n",
       "    <tr style=\"text-align: right;\">\n",
       "      <th></th>\n",
       "      <th>id</th>\n",
       "      <th>brand</th>\n",
       "      <th>model</th>\n",
       "      <th>model_year</th>\n",
       "      <th>milage</th>\n",
       "      <th>fuel_type</th>\n",
       "      <th>engine</th>\n",
       "      <th>transmission</th>\n",
       "      <th>ext_col</th>\n",
       "      <th>int_col</th>\n",
       "      <th>accident</th>\n",
       "      <th>clean_title</th>\n",
       "      <th>price</th>\n",
       "    </tr>\n",
       "  </thead>\n",
       "  <tbody>\n",
       "    <tr>\n",
       "      <th>0</th>\n",
       "      <td>0</td>\n",
       "      <td>MINI</td>\n",
       "      <td>Cooper S Base</td>\n",
       "      <td>2007</td>\n",
       "      <td>213000</td>\n",
       "      <td>Gasoline</td>\n",
       "      <td>172.0HP 1.6L 4 Cylinder Engine Gasoline Fuel</td>\n",
       "      <td>A/T</td>\n",
       "      <td>Yellow</td>\n",
       "      <td>Gray</td>\n",
       "      <td>None reported</td>\n",
       "      <td>Yes</td>\n",
       "      <td>4200</td>\n",
       "    </tr>\n",
       "    <tr>\n",
       "      <th>1</th>\n",
       "      <td>1</td>\n",
       "      <td>Lincoln</td>\n",
       "      <td>LS V8</td>\n",
       "      <td>2002</td>\n",
       "      <td>143250</td>\n",
       "      <td>Gasoline</td>\n",
       "      <td>252.0HP 3.9L 8 Cylinder Engine Gasoline Fuel</td>\n",
       "      <td>A/T</td>\n",
       "      <td>Silver</td>\n",
       "      <td>Beige</td>\n",
       "      <td>At least 1 accident or damage reported</td>\n",
       "      <td>Yes</td>\n",
       "      <td>4999</td>\n",
       "    </tr>\n",
       "    <tr>\n",
       "      <th>2</th>\n",
       "      <td>2</td>\n",
       "      <td>Chevrolet</td>\n",
       "      <td>Silverado 2500 LT</td>\n",
       "      <td>2002</td>\n",
       "      <td>136731</td>\n",
       "      <td>E85 Flex Fuel</td>\n",
       "      <td>320.0HP 5.3L 8 Cylinder Engine Flex Fuel Capab...</td>\n",
       "      <td>A/T</td>\n",
       "      <td>Blue</td>\n",
       "      <td>Gray</td>\n",
       "      <td>None reported</td>\n",
       "      <td>Yes</td>\n",
       "      <td>13900</td>\n",
       "    </tr>\n",
       "    <tr>\n",
       "      <th>3</th>\n",
       "      <td>3</td>\n",
       "      <td>Genesis</td>\n",
       "      <td>G90 5.0 Ultimate</td>\n",
       "      <td>2017</td>\n",
       "      <td>19500</td>\n",
       "      <td>Gasoline</td>\n",
       "      <td>420.0HP 5.0L 8 Cylinder Engine Gasoline Fuel</td>\n",
       "      <td>Transmission w/Dual Shift Mode</td>\n",
       "      <td>Black</td>\n",
       "      <td>Black</td>\n",
       "      <td>None reported</td>\n",
       "      <td>Yes</td>\n",
       "      <td>45000</td>\n",
       "    </tr>\n",
       "  </tbody>\n",
       "</table>\n",
       "</div>"
      ],
      "text/plain": [
       "   id      brand              model  model_year  milage      fuel_type  \\\n",
       "0   0       MINI      Cooper S Base        2007  213000       Gasoline   \n",
       "1   1    Lincoln              LS V8        2002  143250       Gasoline   \n",
       "2   2  Chevrolet  Silverado 2500 LT        2002  136731  E85 Flex Fuel   \n",
       "3   3    Genesis   G90 5.0 Ultimate        2017   19500       Gasoline   \n",
       "\n",
       "                                              engine  \\\n",
       "0       172.0HP 1.6L 4 Cylinder Engine Gasoline Fuel   \n",
       "1       252.0HP 3.9L 8 Cylinder Engine Gasoline Fuel   \n",
       "2  320.0HP 5.3L 8 Cylinder Engine Flex Fuel Capab...   \n",
       "3       420.0HP 5.0L 8 Cylinder Engine Gasoline Fuel   \n",
       "\n",
       "                     transmission ext_col int_col  \\\n",
       "0                             A/T  Yellow    Gray   \n",
       "1                             A/T  Silver   Beige   \n",
       "2                             A/T    Blue    Gray   \n",
       "3  Transmission w/Dual Shift Mode   Black   Black   \n",
       "\n",
       "                                 accident clean_title  price  \n",
       "0                           None reported         Yes   4200  \n",
       "1  At least 1 accident or damage reported         Yes   4999  \n",
       "2                           None reported         Yes  13900  \n",
       "3                           None reported         Yes  45000  "
      ]
     },
     "execution_count": 9,
     "metadata": {},
     "output_type": "execute_result"
    }
   ],
   "source": [
    "# Load Train Set\n",
    "train_df.head(4)"
   ]
  },
  {
   "cell_type": "code",
   "execution_count": 11,
   "metadata": {
    "colab": {
     "base_uri": "https://localhost:8080/"
    },
    "id": "c_EbZFBH5FnX",
    "outputId": "9dbcef5b-227f-46f4-a35d-3bdb97efad02"
   },
   "outputs": [
    {
     "data": {
      "text/plain": [
       "(188533, 13)"
      ]
     },
     "execution_count": 11,
     "metadata": {},
     "output_type": "execute_result"
    }
   ],
   "source": [
    "train_df.shape"
   ]
  },
  {
   "cell_type": "code",
   "execution_count": 13,
   "metadata": {
    "colab": {
     "base_uri": "https://localhost:8080/",
     "height": 244
    },
    "id": "vRnRx-gt-LnB",
    "outputId": "5ab5cdb7-1dd3-44fd-e116-483c723e7e57"
   },
   "outputs": [
    {
     "data": {
      "text/html": [
       "<div>\n",
       "<style scoped>\n",
       "    .dataframe tbody tr th:only-of-type {\n",
       "        vertical-align: middle;\n",
       "    }\n",
       "\n",
       "    .dataframe tbody tr th {\n",
       "        vertical-align: top;\n",
       "    }\n",
       "\n",
       "    .dataframe thead th {\n",
       "        text-align: right;\n",
       "    }\n",
       "</style>\n",
       "<table border=\"1\" class=\"dataframe\">\n",
       "  <thead>\n",
       "    <tr style=\"text-align: right;\">\n",
       "      <th></th>\n",
       "      <th>id</th>\n",
       "      <th>brand</th>\n",
       "      <th>model</th>\n",
       "      <th>model_year</th>\n",
       "      <th>milage</th>\n",
       "      <th>fuel_type</th>\n",
       "      <th>engine</th>\n",
       "      <th>transmission</th>\n",
       "      <th>ext_col</th>\n",
       "      <th>int_col</th>\n",
       "      <th>accident</th>\n",
       "      <th>clean_title</th>\n",
       "    </tr>\n",
       "  </thead>\n",
       "  <tbody>\n",
       "    <tr>\n",
       "      <th>0</th>\n",
       "      <td>188533</td>\n",
       "      <td>Land</td>\n",
       "      <td>Rover LR2 Base</td>\n",
       "      <td>2015</td>\n",
       "      <td>98000</td>\n",
       "      <td>Gasoline</td>\n",
       "      <td>240.0HP 2.0L 4 Cylinder Engine Gasoline Fuel</td>\n",
       "      <td>6-Speed A/T</td>\n",
       "      <td>White</td>\n",
       "      <td>Beige</td>\n",
       "      <td>None reported</td>\n",
       "      <td>Yes</td>\n",
       "    </tr>\n",
       "    <tr>\n",
       "      <th>1</th>\n",
       "      <td>188534</td>\n",
       "      <td>Land</td>\n",
       "      <td>Rover Defender SE</td>\n",
       "      <td>2020</td>\n",
       "      <td>9142</td>\n",
       "      <td>Hybrid</td>\n",
       "      <td>395.0HP 3.0L Straight 6 Cylinder Engine Gasoli...</td>\n",
       "      <td>8-Speed A/T</td>\n",
       "      <td>Silver</td>\n",
       "      <td>Black</td>\n",
       "      <td>None reported</td>\n",
       "      <td>Yes</td>\n",
       "    </tr>\n",
       "    <tr>\n",
       "      <th>2</th>\n",
       "      <td>188535</td>\n",
       "      <td>Ford</td>\n",
       "      <td>Expedition Limited</td>\n",
       "      <td>2022</td>\n",
       "      <td>28121</td>\n",
       "      <td>Gasoline</td>\n",
       "      <td>3.5L V6 24V PDI DOHC Twin Turbo</td>\n",
       "      <td>10-Speed Automatic</td>\n",
       "      <td>White</td>\n",
       "      <td>Ebony</td>\n",
       "      <td>None reported</td>\n",
       "      <td>NaN</td>\n",
       "    </tr>\n",
       "    <tr>\n",
       "      <th>3</th>\n",
       "      <td>188536</td>\n",
       "      <td>Audi</td>\n",
       "      <td>A6 2.0T Sport</td>\n",
       "      <td>2016</td>\n",
       "      <td>61258</td>\n",
       "      <td>Gasoline</td>\n",
       "      <td>2.0 Liter TFSI</td>\n",
       "      <td>Automatic</td>\n",
       "      <td>Silician Yellow</td>\n",
       "      <td>Black</td>\n",
       "      <td>None reported</td>\n",
       "      <td>NaN</td>\n",
       "    </tr>\n",
       "  </tbody>\n",
       "</table>\n",
       "</div>"
      ],
      "text/plain": [
       "       id brand               model  model_year  milage fuel_type  \\\n",
       "0  188533  Land      Rover LR2 Base        2015   98000  Gasoline   \n",
       "1  188534  Land   Rover Defender SE        2020    9142    Hybrid   \n",
       "2  188535  Ford  Expedition Limited        2022   28121  Gasoline   \n",
       "3  188536  Audi       A6 2.0T Sport        2016   61258  Gasoline   \n",
       "\n",
       "                                              engine        transmission  \\\n",
       "0       240.0HP 2.0L 4 Cylinder Engine Gasoline Fuel         6-Speed A/T   \n",
       "1  395.0HP 3.0L Straight 6 Cylinder Engine Gasoli...         8-Speed A/T   \n",
       "2                    3.5L V6 24V PDI DOHC Twin Turbo  10-Speed Automatic   \n",
       "3                                     2.0 Liter TFSI           Automatic   \n",
       "\n",
       "           ext_col int_col       accident clean_title  \n",
       "0            White   Beige  None reported         Yes  \n",
       "1           Silver   Black  None reported         Yes  \n",
       "2            White   Ebony  None reported         NaN  \n",
       "3  Silician Yellow   Black  None reported         NaN  "
      ]
     },
     "execution_count": 13,
     "metadata": {},
     "output_type": "execute_result"
    }
   ],
   "source": [
    "# Load Test Set\n",
    "test_df.head(4)"
   ]
  },
  {
   "cell_type": "code",
   "execution_count": 15,
   "metadata": {
    "colab": {
     "base_uri": "https://localhost:8080/"
    },
    "id": "e_SntVla-Poq",
    "outputId": "becacd56-e3f5-4e15-ec9c-35519796e515"
   },
   "outputs": [
    {
     "data": {
      "text/plain": [
       "(125690, 12)"
      ]
     },
     "execution_count": 15,
     "metadata": {},
     "output_type": "execute_result"
    }
   ],
   "source": [
    "test_df.shape"
   ]
  },
  {
   "cell_type": "code",
   "execution_count": 17,
   "metadata": {
    "colab": {
     "base_uri": "https://localhost:8080/",
     "height": 460
    },
    "id": "2Roh_byB-Y7w",
    "outputId": "63c40cb4-7ee1-46b6-ae75-227a9405e761"
   },
   "outputs": [
    {
     "data": {
      "text/plain": [
       "id                  0\n",
       "brand               0\n",
       "model               0\n",
       "model_year          0\n",
       "milage              0\n",
       "fuel_type        3383\n",
       "engine              0\n",
       "transmission        0\n",
       "ext_col             0\n",
       "int_col             0\n",
       "accident         1632\n",
       "clean_title     14239\n",
       "dtype: int64"
      ]
     },
     "execution_count": 17,
     "metadata": {},
     "output_type": "execute_result"
    }
   ],
   "source": [
    "# CHecking for null values\n",
    "test_df.isna().sum()"
   ]
  },
  {
   "cell_type": "markdown",
   "metadata": {},
   "source": [
    "### Exploratory Data Analysis"
   ]
  },
  {
   "cell_type": "code",
   "execution_count": 19,
   "metadata": {
    "colab": {
     "base_uri": "https://localhost:8080/"
    },
    "id": "qeVdmdRYAyXp",
    "outputId": "9e0c6337-db02-41d7-e8b9-c7b03a2489aa"
   },
   "outputs": [
    {
     "name": "stdout",
     "output_type": "stream",
     "text": [
      "<class 'pandas.core.frame.DataFrame'>\n",
      "RangeIndex: 188533 entries, 0 to 188532\n",
      "Data columns (total 13 columns):\n",
      " #   Column        Non-Null Count   Dtype \n",
      "---  ------        --------------   ----- \n",
      " 0   id            188533 non-null  int64 \n",
      " 1   brand         188533 non-null  object\n",
      " 2   model         188533 non-null  object\n",
      " 3   model_year    188533 non-null  int64 \n",
      " 4   milage        188533 non-null  int64 \n",
      " 5   fuel_type     183450 non-null  object\n",
      " 6   engine        188533 non-null  object\n",
      " 7   transmission  188533 non-null  object\n",
      " 8   ext_col       188533 non-null  object\n",
      " 9   int_col       188533 non-null  object\n",
      " 10  accident      186081 non-null  object\n",
      " 11  clean_title   167114 non-null  object\n",
      " 12  price         188533 non-null  int64 \n",
      "dtypes: int64(4), object(9)\n",
      "memory usage: 18.7+ MB\n"
     ]
    }
   ],
   "source": [
    "# Check basic information about the train data\n",
    "train_df.info()"
   ]
  },
  {
   "cell_type": "code",
   "execution_count": 159,
   "metadata": {},
   "outputs": [
    {
     "data": {
      "text/plain": [
       "Index(['id', 'milage', 'clean_title', 'price', 'brand_grouped', 'model',\n",
       "       'car_age', 'car_age_bucket', 'mileage_per_year', 'fuel_type',\n",
       "       'horsepower', 'engine_size', 'cylinders', 'transmission', 'ext_col',\n",
       "       'int_col', 'accident'],\n",
       "      dtype='object')"
      ]
     },
     "execution_count": 159,
     "metadata": {},
     "output_type": "execute_result"
    }
   ],
   "source": [
    "train_df.columns"
   ]
  },
  {
   "cell_type": "code",
   "execution_count": 163,
   "metadata": {},
   "outputs": [
    {
     "data": {
      "text/plain": [
       "['brand_grouped', 'model', 'fuel_type', 'transmission', 'ext_col', 'int_col']"
      ]
     },
     "execution_count": 163,
     "metadata": {},
     "output_type": "execute_result"
    }
   ],
   "source": [
    "strings = list(train_df.dtypes[train_df.dtypes == 'object'].index)\n",
    "strings"
   ]
  },
  {
   "cell_type": "code",
   "execution_count": null,
   "metadata": {},
   "outputs": [],
   "source": [
    "for col in train.columns:\n",
    "    print(col)\n",
    "    print(train[col].unique()[:5])\n",
    "    print(train[col].nunique())\n",
    "    print()"
   ]
  },
  {
   "cell_type": "code",
   "execution_count": 23,
   "metadata": {
    "colab": {
     "base_uri": "https://localhost:8080/",
     "height": 300
    },
    "id": "m-Ja0fRCCky6",
    "outputId": "a03f549d-655d-41e2-ee83-32f3fc15d385"
   },
   "outputs": [
    {
     "data": {
      "text/html": [
       "<div>\n",
       "<style scoped>\n",
       "    .dataframe tbody tr th:only-of-type {\n",
       "        vertical-align: middle;\n",
       "    }\n",
       "\n",
       "    .dataframe tbody tr th {\n",
       "        vertical-align: top;\n",
       "    }\n",
       "\n",
       "    .dataframe thead th {\n",
       "        text-align: right;\n",
       "    }\n",
       "</style>\n",
       "<table border=\"1\" class=\"dataframe\">\n",
       "  <thead>\n",
       "    <tr style=\"text-align: right;\">\n",
       "      <th></th>\n",
       "      <th>id</th>\n",
       "      <th>model_year</th>\n",
       "      <th>milage</th>\n",
       "      <th>price</th>\n",
       "    </tr>\n",
       "  </thead>\n",
       "  <tbody>\n",
       "    <tr>\n",
       "      <th>count</th>\n",
       "      <td>188533.000000</td>\n",
       "      <td>188533.000000</td>\n",
       "      <td>188533.000000</td>\n",
       "      <td>1.885330e+05</td>\n",
       "    </tr>\n",
       "    <tr>\n",
       "      <th>mean</th>\n",
       "      <td>94266.000000</td>\n",
       "      <td>2015.829998</td>\n",
       "      <td>65705.295174</td>\n",
       "      <td>4.387802e+04</td>\n",
       "    </tr>\n",
       "    <tr>\n",
       "      <th>std</th>\n",
       "      <td>54424.933488</td>\n",
       "      <td>5.660967</td>\n",
       "      <td>49798.158076</td>\n",
       "      <td>7.881952e+04</td>\n",
       "    </tr>\n",
       "    <tr>\n",
       "      <th>min</th>\n",
       "      <td>0.000000</td>\n",
       "      <td>1974.000000</td>\n",
       "      <td>100.000000</td>\n",
       "      <td>2.000000e+03</td>\n",
       "    </tr>\n",
       "    <tr>\n",
       "      <th>25%</th>\n",
       "      <td>47133.000000</td>\n",
       "      <td>2013.000000</td>\n",
       "      <td>24115.000000</td>\n",
       "      <td>1.700000e+04</td>\n",
       "    </tr>\n",
       "    <tr>\n",
       "      <th>50%</th>\n",
       "      <td>94266.000000</td>\n",
       "      <td>2017.000000</td>\n",
       "      <td>57785.000000</td>\n",
       "      <td>3.082500e+04</td>\n",
       "    </tr>\n",
       "    <tr>\n",
       "      <th>75%</th>\n",
       "      <td>141399.000000</td>\n",
       "      <td>2020.000000</td>\n",
       "      <td>95400.000000</td>\n",
       "      <td>4.990000e+04</td>\n",
       "    </tr>\n",
       "    <tr>\n",
       "      <th>max</th>\n",
       "      <td>188532.000000</td>\n",
       "      <td>2024.000000</td>\n",
       "      <td>405000.000000</td>\n",
       "      <td>2.954083e+06</td>\n",
       "    </tr>\n",
       "  </tbody>\n",
       "</table>\n",
       "</div>"
      ],
      "text/plain": [
       "                  id     model_year         milage         price\n",
       "count  188533.000000  188533.000000  188533.000000  1.885330e+05\n",
       "mean    94266.000000    2015.829998   65705.295174  4.387802e+04\n",
       "std     54424.933488       5.660967   49798.158076  7.881952e+04\n",
       "min         0.000000    1974.000000     100.000000  2.000000e+03\n",
       "25%     47133.000000    2013.000000   24115.000000  1.700000e+04\n",
       "50%     94266.000000    2017.000000   57785.000000  3.082500e+04\n",
       "75%    141399.000000    2020.000000   95400.000000  4.990000e+04\n",
       "max    188532.000000    2024.000000  405000.000000  2.954083e+06"
      ]
     },
     "execution_count": 23,
     "metadata": {},
     "output_type": "execute_result"
    }
   ],
   "source": [
    "train_df.describe()"
   ]
  },
  {
   "cell_type": "code",
   "execution_count": 17,
   "metadata": {
    "colab": {
     "base_uri": "https://localhost:8080/",
     "height": 1000
    },
    "id": "ffpjLXbbCqmy",
    "outputId": "4ed890f9-a031-42c0-e707-aa7b53971a42"
   },
   "outputs": [
    {
     "data": {
      "image/png": "[encoded data removed]",
      "text/plain": [
       "<Figure size 800x400 with 1 Axes>"
      ]
     },
     "metadata": {},
     "output_type": "display_data"
    },
    {
     "data": {
      "image/png": "[encoded data removed]",
      "text/plain": [
       "<Figure size 800x400 with 1 Axes>"
      ]
     },
     "metadata": {},
     "output_type": "display_data"
    },
    {
     "data": {
      "image/png": "[encoded data removed]",
      "text/plain": [
       "<Figure size 800x400 with 1 Axes>"
      ]
     },
     "metadata": {},
     "output_type": "display_data"
    }
   ],
   "source": [
    "# Check for Outliers\n",
    "numeric_cols = ['model_year', 'milage', 'price']\n",
    "\n",
    "for col in numeric_cols:\n",
    "    plt.figure(figsize=(8, 4))\n",
    "    sns.boxplot(x=train_df[col])\n",
    "    plt.title(f'Boxplot of {col}')\n",
    "    plt.show()"
   ]
  },
  {
   "cell_type": "code",
   "execution_count": 19,
   "metadata": {
    "colab": {
     "base_uri": "https://localhost:8080/"
    },
    "id": "Sj441kLWIP1l",
    "outputId": "3b17844e-2cef-4ea9-8cc8-b88371cc1760"
   },
   "outputs": [
    {
     "name": "stdout",
     "output_type": "stream",
     "text": [
      "\n",
      "### Summary for model_year ###\n",
      "count    188533.000000\n",
      "mean       2015.829998\n",
      "std           5.660967\n",
      "min        1974.000000\n",
      "25%        2013.000000\n",
      "50%        2017.000000\n",
      "75%        2020.000000\n",
      "max        2024.000000\n",
      "Name: model_year, dtype: float64\n",
      "Detected outliers: 5132\n",
      "Example outlier values: [2002, 2002, 2001, 2000, 2002, 2001, 2001, 2001, 2001, 2002]\n",
      "\n",
      "### Summary for milage ###\n",
      "count    188533.000000\n",
      "mean      65705.295174\n",
      "std       49798.158076\n",
      "min         100.000000\n",
      "25%       24115.000000\n",
      "50%       57785.000000\n",
      "75%       95400.000000\n",
      "max      405000.000000\n",
      "Name: milage, dtype: float64\n",
      "Detected outliers: 1766\n",
      "Example outlier values: [213000, 212500, 244200, 269885, 215000, 209500, 245000, 242000, 212000, 230000]\n",
      "\n",
      "### Summary for price ###\n",
      "count    1.885330e+05\n",
      "mean     4.387802e+04\n",
      "std      7.881952e+04\n",
      "min      2.000000e+03\n",
      "25%      1.700000e+04\n",
      "50%      3.082500e+04\n",
      "75%      4.990000e+04\n",
      "max      2.954083e+06\n",
      "Name: price, dtype: float64\n",
      "Detected outliers: 10880\n",
      "Example outlier values: [104900, 165000, 244896, 145000, 193063, 101000, 99950, 110000, 2954083, 124900]\n"
     ]
    }
   ],
   "source": [
    "# Loop through all numeric features and compute distribution + outliers\n",
    "for feature in numeric_cols:\n",
    "    print(f\"\\n### Summary for {feature} ###\")\n",
    "\n",
    "    # Show standard descriptive statistics (count, mean, std, min, quartiles, max)\n",
    "    print(train_df[feature].describe())\n",
    "\n",
    "    # Interquartile range (IQR) method for detecting potential outliers\n",
    "    q1 = train_df[feature].quantile(0.25)\n",
    "    q3 = train_df[feature].quantile(0.75)\n",
    "    iqr = q3 - q1\n",
    "\n",
    "    lower_limit = q1 - 1.5 * iqr\n",
    "    upper_limit = q3 + 1.5 * iqr\n",
    "\n",
    "    # Extract data points outside the acceptable range\n",
    "    potential_outliers = train_df.loc[\n",
    "        (train_df[feature] < lower_limit) | (train_df[feature] > upper_limit),\n",
    "        feature\n",
    "    ]\n",
    "\n",
    "    print(f\"Detected outliers: {potential_outliers.shape[0]}\")\n",
    "    print(\"Example outlier values:\", potential_outliers.head(10).tolist())\n"
   ]
  },
  {
   "cell_type": "code",
   "execution_count": 23,
   "metadata": {
    "colab": {
     "base_uri": "https://localhost:8080/"
    },
    "id": "NmMH-WxyPG_s",
    "outputId": "989fb30d-5e40-4ef2-ba15-4a23304eb29c",
    "scrolled": true
   },
   "outputs": [
    {
     "name": "stdout",
     "output_type": "stream",
     "text": [
      "\n",
      "▶ brand | 57 distinct entries\n",
      "['MINI' 'Lincoln' 'Chevrolet' 'Genesis' 'Mercedes-Benz' 'Audi' 'Ford'\n",
      " 'BMW' 'Tesla' 'Cadillac' 'Land' 'GMC' 'Toyota' 'Hyundai' 'Volvo'\n",
      " 'Volkswagen' 'Buick' 'Rivian' 'RAM' 'Hummer' 'Alfa' 'INFINITI' 'Jeep'\n",
      " 'Porsche' 'McLaren' 'Honda' 'Lexus' 'Dodge' 'Nissan' 'Jaguar' 'Acura'\n",
      " 'Kia' 'Mitsubishi' 'Rolls-Royce' 'Maserati' 'Pontiac' 'Saturn' 'Bentley'\n",
      " 'Mazda' 'Subaru' 'Ferrari' 'Aston' 'Lamborghini' 'Chrysler' 'Lucid'\n",
      " 'Lotus' 'Scion' 'smart' 'Karma' 'Plymouth' 'Suzuki' 'FIAT' 'Saab'\n",
      " 'Bugatti' 'Mercury' 'Polestar' 'Maybach']\n",
      "\n",
      "▶ model | 1897 distinct entries\n",
      "['Cooper S Base' 'LS V8' 'Silverado 2500 LT' ... 'e-Golf SE'\n",
      " 'Integra w/A-Spec Tech Package' 'IONIQ Plug-In Hybrid SEL']\n",
      "\n",
      "▶ model_year | 34 distinct entries\n",
      "[2007 2002 2017 2021 2018 2016 2020 2015 2011 2013 2023 2019 2012 2014\n",
      " 2008 2009 2022 2003 2005 2001 2006 2000 2010 2004 1997 1998 1999 1994\n",
      " 1993 1996 1995 2024 1974 1992]\n",
      "\n",
      "▶ milage | 6651 distinct entries\n",
      "[213000 143250 136731 ...   4721   2922 134603]\n",
      "\n",
      "▶ fuel_type | 8 distinct entries\n",
      "['Gasoline' 'E85 Flex Fuel' nan 'Hybrid' 'Diesel' 'Plug-In Hybrid' '–'\n",
      " 'not supported']\n",
      "\n",
      "▶ engine | 1117 distinct entries\n",
      "['172.0HP 1.6L 4 Cylinder Engine Gasoline Fuel'\n",
      " '252.0HP 3.9L 8 Cylinder Engine Gasoline Fuel'\n",
      " '320.0HP 5.3L 8 Cylinder Engine Flex Fuel Capability' ...\n",
      " '78.0HP 1.2L 3 Cylinder Engine Gasoline Fuel'\n",
      " '139.0HP 1.6L 4 Cylinder Engine Plug-In Electric/Gas'\n",
      " '313.0HP 2.0L 4 Cylinder Engine Plug-In Electric/Gas']\n",
      "\n",
      "▶ transmission | 52 distinct entries\n",
      "['A/T' 'Transmission w/Dual Shift Mode' '7-Speed A/T' '8-Speed A/T'\n",
      " '10-Speed Automatic' '1-Speed A/T' '6-Speed A/T' '10-Speed A/T'\n",
      " '9-Speed A/T' '8-Speed Automatic' '9-Speed Automatic' '5-Speed A/T'\n",
      " 'Automatic' '7-Speed Automatic with Auto-Shift' 'CVT Transmission'\n",
      " '5-Speed M/T' 'M/T' '6-Speed M/T' '6-Speed Automatic' '4-Speed Automatic'\n",
      " '7-Speed M/T' '2-Speed A/T' '1-Speed Automatic' 'Automatic CVT'\n",
      " '4-Speed A/T' '6-Speed Manual' 'Transmission Overdrive Switch'\n",
      " '8-Speed Automatic with Auto-Shift' '7-Speed Manual' '7-Speed Automatic'\n",
      " '9-Speed Automatic with Auto-Shift' '6-Speed Automatic with Auto-Shift'\n",
      " '6-Speed Electronically Controlled Automatic with O' 'F' 'CVT-F'\n",
      " '8-Speed Manual' 'Manual' '–' '2' '6 Speed At/Mt' '5-Speed Automatic'\n",
      " '2-Speed Automatic' '8-SPEED A/T' '7-Speed' 'Variable'\n",
      " 'Single-Speed Fixed Gear' '8-SPEED AT'\n",
      " '10-Speed Automatic with Overdrive' '7-Speed DCT Automatic'\n",
      " 'SCHEDULED FOR OR IN PRODUCTION' '6-Speed' '6 Speed Mt']\n",
      "\n",
      "▶ ext_col | 319 distinct entries\n",
      "['Yellow' 'Silver' 'Blue' 'Black' 'White' 'Snowflake White Pearl Metallic'\n",
      " 'Gray' 'Green' 'Santorini Black Metallic' 'Purple'\n",
      " 'Ebony Twilight Metallic' 'Red' 'Magnetite Black Metallic'\n",
      " 'Diamond Black' 'Vega Blue' 'Beige' 'Gold' 'Platinum White Pearl'\n",
      " 'Metallic' 'White Frost Tri-Coat' 'Firecracker Red Clearcoat'\n",
      " 'Phytonic Blue Metallic' 'Blu' 'Orange' 'Brown'\n",
      " 'Brilliant Silver Metallic' 'Black Raven' 'Black Clearcoat' 'Firenze Red'\n",
      " 'Agate Black Metallic' 'Glacial White Pearl' 'Majestic Plum Metallic'\n",
      " 'designo Diamond White Metallic' 'Oxford White' 'Black Sapphire Metallic'\n",
      " 'Mythos Black' 'Granite Crystal Clearcoat Metallic'\n",
      " 'White Diamond Tri-Coat' 'Magnetite Gray Metallic'\n",
      " 'Carpathian Grey Premium Metallic' 'designo Diamond White Bright'\n",
      " 'Phantom Black Pearl Effect / Black Roof' 'Nebula Gray Pearl'\n",
      " 'Deep Crystal Blue Mica' 'Flame Red Clearcoat' 'Lunar Blue Metallic'\n",
      " 'Bright White Clearcoat' 'Rapid Red Metallic Tinted Clearcoat' 'Caviar'\n",
      " 'Dark Ash Metallic' 'Velvet Red Pearlcoat' 'Silver Zynith' 'Super Black'\n",
      " 'Antimatter Blue Metallic' 'Dark Moon Blue Metallic' 'Summit White'\n",
      " 'Ebony Black' '–' 'Black Cherry' 'Delmonico Red Pearlcoat'\n",
      " 'Platinum Quartz Metallic' 'Ultra White' 'Python Green'\n",
      " 'Garnet Red Metallic' 'Snow White Pearl' 'Cajun Red Tintcoat'\n",
      " 'Midnight Black Metallic' 'Diamond White' 'Mythos Black Metallic'\n",
      " 'Soul Red Crystal Metallic' 'Atomic Silver' 'Obsidian'\n",
      " 'Magnetic Metallic' 'Twilight Blue Metallic' 'Star White' 'Stormy Sea'\n",
      " 'Tango Red Metallic' 'Hyper Red' 'Portofino Gray'\n",
      " 'MANUFAKTUR Diamond White Bright' 'Snowflake White Pearl'\n",
      " 'Patriot Blue Pearlcoat' 'Tungsten Metallic' 'Chronos Gray Metallic'\n",
      " 'Silver Ice Metallic' 'Daytona Gray Pearl Effect'\n",
      " 'Ruby Red Metallic Tinted Clearcoat' 'Alpine White' 'Eminent White Pearl'\n",
      " 'Manhattan Noir Metallic' 'Quicksilver Metallic' 'Stellar Black Metallic'\n",
      " 'Sparkling Silver' 'Blueprint' 'Crystal Black Silica' 'Black Noir Pearl'\n",
      " 'Arancio Borealis' 'Typhoon Gray' 'Ibis White' 'Graphite Grey'\n",
      " 'Mineral White' 'Midnight Black' 'Northsky Blue Metallic' 'Alta White'\n",
      " 'Brilliant Black' 'Jet Black Mica'\n",
      " 'Daytona Gray Pearl Effect w/ Black Roof' 'Redline Red'\n",
      " 'Glacier Silver Metallic' 'Magnetic Black' 'Chronos Gray'\n",
      " 'Red Quartz Tintcoat' 'Nero Noctis' 'Firenze Red Metallic'\n",
      " 'Iridescent Pearl Tricoat' 'Twilight Black' 'Radiant Red Metallic II'\n",
      " 'Blue Metallic' 'Glacier White' 'Daytona Gray' 'Rosso Mars Metallic'\n",
      " 'Wolf Gray' 'Santorin Black' 'Designo Magno Matte'\n",
      " 'Emerald Green Metallic' 'Ruby Flare Pearl' 'Lunar Silver Metallic'\n",
      " 'Eiger Grey Metallic' 'Quartzite Grey Metallic' 'Barcelona Red'\n",
      " 'Beluga Black' 'Matador Red Metallic' 'Billet Silver Metallic Clearcoat'\n",
      " 'Anodized Blue Metallic' 'Black Forest Green' 'Ice Silver Metallic'\n",
      " 'Sandstone Metallic' 'Magnetic Gray Clearcoat' 'Crystal Black Pearl'\n",
      " 'Pacific Blue Metallic' 'Stone Gray Metallic' 'Iconic Silver Metallic'\n",
      " 'Dark Sapphire' 'Onyx' 'Aventurine Green Metallic' 'China Blue'\n",
      " 'Majestic Black Pearl' 'Midnight Silver Metallic' 'Sting Gray Clearcoat'\n",
      " 'Glacier Blue Metallic' 'BLACK' 'Chalk' 'Dark Matter Metallic'\n",
      " 'Infrared Tintcoat' 'Iridium Metallic' 'Fuji White' 'Alfa White'\n",
      " 'Kodiak Brown Metallic' 'Aurora Black' 'Onyx Black'\n",
      " 'Nightfall Gray Metallic' 'Obsidian Black Metallic' 'Phantom Black'\n",
      " 'Remington Red Metallic' 'designo Diamond White' 'Lizard Green'\n",
      " 'Rosso Corsa' 'Shadow Gray Metallic' 'Florett Silver' 'Quartz White'\n",
      " 'DB Black Clearcoat' 'Yulong White' 'Eiger Grey' 'Custom Color'\n",
      " 'Electric Blue Metallic' 'Tempest' 'Lunar Rock' 'Mosaic Black Metallic'\n",
      " 'Gecko Pearlcoat' 'White Clearcoat' 'BLU ELEOS'\n",
      " 'Granite Crystal Metallic Clearcoat' 'Rich Garnet Metallic'\n",
      " 'Graphite Grey Metallic' 'Bianco Icarus Metallic' 'Satin Steel Metallic'\n",
      " 'BLUE' 'Moonlight Cloud' 'Matador Red Mica' 'Emin White'\n",
      " 'Machine Gray Metallic' 'White Platinum Tri-Coat Metallic'\n",
      " 'Cobra Beige Metallic' 'Cayenne Red Tintcoat' 'Shoreline Blue Pearl'\n",
      " 'Vik Black' 'Shimmering Silver' 'Bianco Monocerus'\n",
      " 'Carbonized Gray Metallic' 'Carrara White Metallic' 'Dark Slate Metallic'\n",
      " 'Dark Graphite Metallic' 'Sonic Silver Metallic'\n",
      " 'White Knuckle Clearcoat' 'Titanium Silver' 'Anthracite Blue Metallic'\n",
      " 'Black Obsidian' 'Polymetal Gray Metallic' 'Orca Black Metallic'\n",
      " 'Wind Chill Pearl' 'Blue Reflex Mica' 'Dark Moss'\n",
      " 'Selenite Grey Metallic' 'Kemora Gray Metallic' 'Nightfall Mica'\n",
      " 'Liquid Platinum' 'Mountain Air Metallic' 'Kinetic Blue'\n",
      " 'Santorini Black' 'Carbon Black Metallic' 'Gentian Blue Metallic'\n",
      " 'Red Multi' 'Super White' 'Pearl White' 'Typhoon Gray Metallic'\n",
      " 'Navarra Blue Metallic' 'Bianco Isis' 'Navarra Blue'\n",
      " 'Volcano Grey Metallic' 'Arctic Gray Metallic' 'Pure White' 'Baltic Gray'\n",
      " 'Glacier White Metallic' 'Frozen Dark Silver Metallic'\n",
      " 'Magnetic Gray Metallic' 'Gun Metallic' 'Siren Red Tintcoat'\n",
      " 'Deep Blue Metallic' 'Cirrus Silver Metallic' 'Deep Black Pearl Effect'\n",
      " 'Granite' 'Sunset Drift Chromaflair' 'Oryx White Prl'\n",
      " 'Dark Gray Metallic' 'Bayside Blue' 'Pink' 'Ice' 'Mango Tango Pearlcoat'\n",
      " 'Burnished Bronze Metallic' 'Verde' 'Arctic White'\n",
      " 'Portofino Blue Metallic' 'Dazzling White' 'Nero Daytona'\n",
      " 'Nautical Blue Pearl' 'Imperial Blue Metallic' 'Vulcano Black Metallic'\n",
      " 'Silver Radiance' 'Hellayella Clearcoat' 'Jungle Green' 'C / C' 'Yulong'\n",
      " 'Pristine White' 'Silky Silver' 'Caspian Blue' 'Sangria Red'\n",
      " 'Donington Grey Metallic' 'Apex Blue' 'Rift Metallic' 'Fountain Blue'\n",
      " 'Balloon White' 'Matte White' 'Frozen White' 'Pacific Blue' 'Rosso'\n",
      " 'Ironman Silver' 'Octane Red Pearlcoat' 'Selenite Gray Metallic'\n",
      " 'Hydro Blue Pearlcoat' 'Ingot Silver Metallic' 'Quartz Blue Pearl'\n",
      " 'Lunare White Metallic' 'Ember Pearlcoat' 'Brands Hatch Gray Metallic'\n",
      " 'Navarre Blue' 'Midnight Blue Metallic' 'Shadow Black' 'Go Mango!'\n",
      " 'Maximum Steel Metallic' 'Silver Flare Metallic'\n",
      " 'Billet Clearcoat Metallic' 'Hampton Gray' 'Red Obsession' 'Silver Mist'\n",
      " 'Scarlet Ember' 'Crimson Red Tintcoat' 'Tan' 'Isle of Man Green Metallic'\n",
      " 'Crystal Black' 'Glacier' 'Iridium Silver Metallic'\n",
      " 'Bronze Dune Metallic' 'Maroon' 'Platinum Gray Metallic' 'Passion Red'\n",
      " 'Silician Yellow' 'Volcanic Orange' 'Crystal White Pearl' 'Reflex Silver'\n",
      " 'Blue Caelum' 'Thunder Gray' 'Ultra Black' 'Indus Silver' 'Horizon Blue'\n",
      " 'Grigio Nimbus' 'Carpathian Grey' 'Ametrin Metallic' 'Jupiter Red'\n",
      " 'GT SILVER']\n",
      "\n",
      "▶ int_col | 156 distinct entries\n",
      "['Gray' 'Beige' 'Black' '–' 'Blue' 'White' 'Red' 'Brown' 'Dark Galvanized'\n",
      " 'Parchment.' 'Boulder' 'Orange' 'Medium Earth Gray' 'Ebony'\n",
      " 'Canberra Beige' 'Jet Black' 'Silver' 'Light Platinum / Jet Black'\n",
      " 'Macchiato/Magmagrey' 'Gold' 'Cloud' 'Rioja Red' 'Global Black' 'Green'\n",
      " 'Medium Stone' 'Navy Pier' 'Dark Ash' 'BLACK' 'Portland' 'Sandstone'\n",
      " 'Canberra Beige/Black' 'Diesel Gray / Black' 'Sarder Brown' 'Black Onyx'\n",
      " 'White / Brown' 'Black/Gun Metal' 'Slate' 'Satin Black'\n",
      " 'Macchiato Beige/Black' 'Charcoal' 'Black / Express Red' 'Cappuccino'\n",
      " 'Aragon Brown' 'Parchment' 'Oyster W/Contrast' 'Adrenaline Red' 'Ebony.'\n",
      " 'Shara Beige' 'Graystone' 'Pearl Beige' 'Nero Ade' 'Graphite'\n",
      " 'Tan/Ebony/Ebony' 'Charcoal Black' 'Medium Ash Gray' 'Ebony Black'\n",
      " 'Light Titanium' 'Sakhir Orange' 'Tan' 'Rock Gray' 'Brandy'\n",
      " 'Carbon Black' 'Amber' 'Black w/Red Stitching' 'Hotspur' 'Chateau' 'Ice'\n",
      " 'Deep Garnet' 'Blk' 'Grace White' 'Oyster/Black' 'Mesa' 'Espresso'\n",
      " 'Black/Graphite' 'Ebony / Ebony Accents' 'Tan/Ebony' 'Ceramic'\n",
      " 'Medium Dark Slate' 'Graphite w/Gun Metal' 'Obsidian Black'\n",
      " 'Cocoa / Dune' 'Roast' 'Yellow' 'Hotspur Hide' 'Gray w/Blue Bolsters'\n",
      " 'Chestnut' 'Saiga Beige' 'ORANGE' 'Charles Blue' 'Walnut' 'Ivory / Ebony'\n",
      " 'Caramel' 'Pimento Red w/Ebony' 'Saddle Brown' 'Dark Gray'\n",
      " 'Silk Beige/Espresso Brown' 'Black / Brown' 'Ebony/Light Oyster Stitch'\n",
      " 'Ebony / Pimento' 'Mistral Gray / Raven' 'Giallo Taurus / Nero Ade'\n",
      " 'Tension' 'Medium Pewter' 'Black / Saddle' 'Camel Leather'\n",
      " 'Black/Saddle Brown' 'Macchiato' 'Anthracite' 'Mocha' 'Whisper Beige'\n",
      " 'Titan Black / Quarzit' 'Sahara Tan' 'Porpoise' 'Black/Red' 'Titan Black'\n",
      " 'AMG Black' 'Deep Cypress' 'Light Slate' 'Red / Black' 'Beluga Hide'\n",
      " 'Tupelo' 'Gideon' 'Rhapsody Blue' 'Medium Light Camel' 'Almond Beige'\n",
      " 'Black / Gray' 'Nero' 'Agave Green' 'Deep Chestnut' 'Dark Auburn' 'Shale'\n",
      " 'Silk Beige/Black' 'BEIGE' 'Magma Red' 'Linen' 'Black / Stone Grey'\n",
      " 'Sand Beige' 'Red/Black' 'Bianco Polar' 'Light Gray' 'Platinum' 'Sport'\n",
      " 'Ash' 'Black / Graphite' 'Nougat Brown' 'Camel' 'Mountain Brown'\n",
      " 'Pimento / Ebony' 'Classic Red' 'Sakhir Orange/Black' 'Cobalt Blue'\n",
      " 'Very Light Cashmere' 'Kyalami Orange' 'Orchid' 'Beluga' 'WHITE']\n",
      "\n",
      "▶ accident | 3 distinct entries\n",
      "['None reported' 'At least 1 accident or damage reported' nan]\n",
      "\n",
      "▶ clean_title | 2 distinct entries\n",
      "['Yes' nan]\n",
      "\n",
      "▶ price | 1569 distinct entries\n",
      "[ 4200  4999 13900 ... 33498 81998 13310]\n"
     ]
    }
   ],
   "source": [
    "# --- Inspect unique values for selected features\n",
    "\n",
    "selected_columns = [\n",
    "    \"brand\", \"model\", \"model_year\", \"milage\", \"fuel_type\",\n",
    "    \"engine\", \"transmission\", \"ext_col\", \"int_col\", \"accident\",\n",
    "    \"clean_title\", \"price\"\n",
    "]\n",
    "\n",
    "for feature in selected_columns:\n",
    "    uniques = train_df[feature].unique()\n",
    "    print(f\"\\n▶ {feature} | {len(uniques)} distinct entries\")\n",
    "    print(uniques)\n"
   ]
  },
  {
   "cell_type": "code",
   "execution_count": 69,
   "metadata": {},
   "outputs": [
    {
     "data": {
      "image/png": "[encoded data removed]",
      "text/plain": [
       "<Figure size 800x600 with 2 Axes>"
      ]
     },
     "metadata": {},
     "output_type": "display_data"
    }
   ],
   "source": [
    "# Select the relevant columns\n",
    "selected_columns = ['odometer', 'condition', 'car_age_at_sale', 'price']\n",
    "filtered_corr = train_df[numeric_cols]\n",
    "\n",
    "# Calculate the correlation matrix\n",
    "correlation_matrix = filtered_corr.corr()\n",
    "\n",
    "# Create a heatmap\n",
    "plt.figure(figsize=(8, 6))\n",
    "sns.heatmap(correlation_matrix, annot=True,  fmt='.2f', cmap='viridis', linewidths=0.5)\n",
    "\n",
    "# Add a title\n",
    "plt.title('Correlation Heatmap for Selected Features', fontsize=16)\n",
    "\n",
    "# Show the plot\n",
    "plt.tight_layout()\n",
    "plt.show()"
   ]
  },
  {
   "cell_type": "code",
   "execution_count": 33,
   "metadata": {},
   "outputs": [
    {
     "data": {
      "image/png": "[encoded data removed]",
      "text/plain": [
       "<Figure size 1200x800 with 1 Axes>"
      ]
     },
     "metadata": {},
     "output_type": "display_data"
    }
   ],
   "source": [
    "plt.figure(figsize=(12, 8))\n",
    "sns.barplot(x='brand', y='price', data= train_df, errorbar=None, palette='viridis') \n",
    "plt.title('Average Price by Car Brand')\n",
    "plt.xlabel('Car brand')\n",
    "plt.ylabel('Average Price')\n",
    "plt.xticks(rotation=85)  \n",
    "plt.show() "
   ]
  },
  {
   "cell_type": "code",
   "execution_count": 65,
   "metadata": {},
   "outputs": [
    {
     "data": {
      "image/png": "[encoded data removed]",
      "text/plain": [
       "<Figure size 1000x600 with 1 Axes>"
      ]
     },
     "metadata": {},
     "output_type": "display_data"
    }
   ],
   "source": [
    "plt.figure(figsize=(10, 6))\n",
    "sns.barplot(x='accident', y='price', data= train_df, errorbar=None, palette='viridis') \n",
    "plt.title('Average Price by Accident History')\n",
    "plt.xlabel('Accident History')\n",
    "plt.ylabel('Average Price')\n",
    "plt.xticks(rotation=45)\n",
    "plt.show() "
   ]
  },
  {
   "cell_type": "code",
   "execution_count": 47,
   "metadata": {},
   "outputs": [
    {
     "data": {
      "image/png": "[encoded data removed]",
      "text/plain": [
       "<Figure size 1200x800 with 1 Axes>"
      ]
     },
     "metadata": {},
     "output_type": "display_data"
    }
   ],
   "source": [
    "plt.figure(figsize=(12, 8))\n",
    "sns.barplot(x='model_year', y='price', data= train_df, errorbar= None, palette='viridis')\n",
    "plt.title('Average Car Price by Model Year')\n",
    "plt.xlabel('Model Year')\n",
    "plt.ylabel('Average Price')\n",
    "plt.xticks(rotation=90)  \n",
    "plt.show() "
   ]
  },
  {
   "cell_type": "code",
   "execution_count": 67,
   "metadata": {},
   "outputs": [
    {
     "data": {
      "image/png": "[encoded data removed]",
      "text/plain": [
       "<Figure size 1000x600 with 1 Axes>"
      ]
     },
     "metadata": {},
     "output_type": "display_data"
    }
   ],
   "source": [
    "plt.figure(figsize=(10, 6))\n",
    "sns.countplot(x='transmission', data=  train_df)  \n",
    "plt.title('Count of Cars by Transmission Type')\n",
    "plt.xlabel('Transmission')\n",
    "plt.ylabel('Count')\n",
    "plt.xticks(rotation=90)\n",
    "plt.show() "
   ]
  },
  {
   "cell_type": "markdown",
   "metadata": {
    "id": "-0sAYU1NREI8"
   },
   "source": [
    "## Data Cleaning and Feature Engineering"
   ]
  },
  {
   "cell_type": "code",
   "execution_count": 37,
   "metadata": {
    "id": "Z0w_fIFWRFdA"
   },
   "outputs": [],
   "source": [
    "# Getting the value counts of each brand in the training set\n",
    "brand_car = train_df['brand'].value_counts()"
   ]
  },
  {
   "cell_type": "code",
   "execution_count": 39,
   "metadata": {
    "colab": {
     "base_uri": "https://localhost:8080/",
     "height": 1000
    },
    "id": "Y_oBDOXdkXye",
    "outputId": "f088709e-3137-4029-f1d2-ef4f03b6490e"
   },
   "outputs": [
    {
     "data": {
      "text/plain": [
       "brand\n",
       "Ford             23088\n",
       "Mercedes-Benz    19172\n",
       "BMW              17028\n",
       "Chevrolet        16335\n",
       "Audi             10887\n",
       "Porsche          10612\n",
       "Land              9525\n",
       "Toyota            8850\n",
       "Lexus             8643\n",
       "Jeep              6474\n",
       "Cadillac          4674\n",
       "RAM               4249\n",
       "Nissan            3930\n",
       "Tesla             3738\n",
       "INFINITI          3276\n",
       "GMC               3215\n",
       "Dodge             3133\n",
       "Mazda             2719\n",
       "Kia               2497\n",
       "Lincoln           2423\n",
       "Subaru            2381\n",
       "Acura             2282\n",
       "Honda             2101\n",
       "Hyundai           2045\n",
       "Volkswagen        1765\n",
       "Jaguar            1319\n",
       "Bentley           1155\n",
       "MINI              1064\n",
       "Genesis            969\n",
       "Buick              940\n",
       "Maserati           939\n",
       "Lamborghini        809\n",
       "Chrysler           727\n",
       "Volvo              723\n",
       "Alfa               682\n",
       "Rivian             590\n",
       "Rolls-Royce        561\n",
       "Mitsubishi         551\n",
       "Pontiac            538\n",
       "Hummer             520\n",
       "Ferrari            359\n",
       "McLaren            243\n",
       "Aston              238\n",
       "Saturn             148\n",
       "Scion              120\n",
       "Lucid               69\n",
       "Mercury             57\n",
       "Lotus               52\n",
       "FIAT                44\n",
       "Saab                22\n",
       "Karma               17\n",
       "Suzuki               8\n",
       "Plymouth             7\n",
       "Bugatti              7\n",
       "Polestar             7\n",
       "smart                3\n",
       "Maybach              3\n",
       "Name: count, dtype: int64"
      ]
     },
     "execution_count": 39,
     "metadata": {},
     "output_type": "execute_result"
    }
   ],
   "source": [
    "brand_car"
   ]
  },
  {
   "cell_type": "code",
   "execution_count": 41,
   "metadata": {
    "colab": {
     "base_uri": "https://localhost:8080/"
    },
    "id": "qId6GaChkPLD",
    "outputId": "eba66a5a-e9c2-4fe4-b626-47dd8d7ba155"
   },
   "outputs": [
    {
     "data": {
      "text/plain": [
       "Index(['Volkswagen', 'Jaguar', 'Bentley', 'MINI', 'Genesis', 'Buick',\n",
       "       'Maserati', 'Lamborghini', 'Chrysler', 'Volvo', 'Alfa', 'Rivian',\n",
       "       'Rolls-Royce', 'Mitsubishi', 'Pontiac', 'Hummer', 'Ferrari', 'McLaren',\n",
       "       'Aston', 'Saturn', 'Scion', 'Lucid', 'Mercury', 'Lotus', 'FIAT', 'Saab',\n",
       "       'Karma', 'Suzuki', 'Plymouth', 'Bugatti', 'Polestar', 'smart',\n",
       "       'Maybach'],\n",
       "      dtype='object', name='brand')"
      ]
     },
     "execution_count": 41,
     "metadata": {},
     "output_type": "execute_result"
    }
   ],
   "source": [
    "# Identifying brands that are uncommon\n",
    "rare_brands = brand_car[brand_car < len(train_df) * 0.01].index\n",
    "rare_brands"
   ]
  },
  {
   "cell_type": "code",
   "execution_count": 43,
   "metadata": {
    "id": "2IFxC8V6k7qo"
   },
   "outputs": [],
   "source": [
    "# Group infrequent brands into \"Other\" and update datasets\n",
    "def group_brands(value, rare_list):\n",
    "    \"\"\"Map brand to 'Other' if it belongs to the rare list.\"\"\"\n",
    "    return \"Other\" if value in rare_list else value\n",
    "\n",
    "train_df[\"brand_grouped\"] = train_df[\"brand\"].apply(lambda b: group_brands(b, rare_brands))\n",
    "test_df[\"brand_grouped\"] = test_df[\"brand\"].apply(lambda b: group_brands(b, rare_brands))\n",
    "\n",
    "# Remove the original brand column to avoid duplication\n",
    "train_df.drop(columns=[\"brand\"], inplace=True)\n",
    "test_df.drop(columns=[\"brand\"], inplace=True)\n"
   ]
  },
  {
   "cell_type": "code",
   "execution_count": 44,
   "metadata": {
    "colab": {
     "base_uri": "https://localhost:8080/"
    },
    "id": "i2PkycT8k7uQ",
    "outputId": "e56c78a9-0b46-4cbb-b2bc-c5bc7448f234"
   },
   "outputs": [
    {
     "name": "stdout",
     "output_type": "stream",
     "text": [
      "New brand counts in the training data after grouping:\n",
      "brand_grouped\n",
      "Ford             23088\n",
      "Mercedes-Benz    19172\n",
      "BMW              17028\n",
      "Chevrolet        16335\n",
      "Other            15256\n",
      "Audi             10887\n",
      "Porsche          10612\n",
      "Land              9525\n",
      "Toyota            8850\n",
      "Lexus             8643\n",
      "Jeep              6474\n",
      "Cadillac          4674\n",
      "RAM               4249\n",
      "Nissan            3930\n",
      "Tesla             3738\n",
      "INFINITI          3276\n",
      "GMC               3215\n",
      "Dodge             3133\n",
      "Mazda             2719\n",
      "Kia               2497\n",
      "Lincoln           2423\n",
      "Subaru            2381\n",
      "Acura             2282\n",
      "Honda             2101\n",
      "Hyundai           2045\n",
      "Name: count, dtype: int64\n",
      "\n",
      "Number of unique brands after grouping: 25\n"
     ]
    }
   ],
   "source": [
    "# --- Verify brand grouping results ---\n",
    "brand_counts = train_df[\"brand_grouped\"].value_counts()\n",
    "print(\"✔ Distribution of brands (after grouping):\")\n",
    "print(brand_car)\n",
    "print(f\"\\nTotal distinct brand categories remaining: {train_df['brand_grouped'].nunique()}\")\n"
   ]
  },
  {
   "cell_type": "code",
   "execution_count": 49,
   "metadata": {
    "colab": {
     "base_uri": "https://localhost:8080/",
     "height": 489
    },
    "id": "e0d6Zfd8mI4y",
    "outputId": "aafb0444-bb9d-4ea1-b0a9-3f62657e8bd0"
   },
   "outputs": [
    {
     "data": {
      "text/plain": [
       "model\n",
       "F-150 XLT                        2945\n",
       "M3 Base                          2229\n",
       "Camaro 2SS                       1709\n",
       "M4 Base                          1622\n",
       "Mustang GT Premium               1526\n",
       "                                 ... \n",
       "IONIQ Plug-In Hybrid SEL            2\n",
       "X5 3.0i                             1\n",
       "X5 xDrive40e                        1\n",
       "XLR Base                            1\n",
       "Integra w/A-Spec Tech Package       1\n",
       "Name: count, Length: 1897, dtype: int64"
      ]
     },
     "execution_count": 49,
     "metadata": {},
     "output_type": "execute_result"
    }
   ],
   "source": [
    "# --- Frequency distribution of car models in the training set ---\n",
    "model_frequencies = train_df[\"model\"].value_counts()\n",
    "print(\"Top models by occurrence:\\n\")\n",
    "print(model_frequencies.head(20))  # show top 20 for readability\n"
   ]
  },
  {
   "cell_type": "code",
   "execution_count": 51,
   "metadata": {
    "colab": {
     "base_uri": "https://localhost:8080/"
    },
    "id": "CdgFoBZBmrMX",
    "outputId": "101b5b34-3978-4af3-e0e8-b4e9e2b09393"
   },
   "outputs": [
    {
     "name": "stdout",
     "output_type": "stream",
     "text": [
      "The old 'model' column is being dropped and replaced with the new grouped column.\n",
      "\n",
      "Here are the new unique value counts from the training data:\n",
      "model\n",
      "Other_Model    183359\n",
      "F-150 XLT        2945\n",
      "M3 Base          2229\n",
      "Name: count, dtype: int64\n",
      "\n",
      "We are now seeing 3 unique models after grouping.\n"
     ]
    }
   ],
   "source": [
    "# --- Group infrequent car models into \"Other_Model\" ---\n",
    "\n",
    "# Define threshold: models that appear in <1% of training data\n",
    "threshold = 0.01 * len(train_df)\n",
    "infrequent_models = model_frequencies[model_frequencies < threshold].index\n",
    "\n",
    "def group_models(value, rare_list):\n",
    "    \"\"\"Replace rare models with 'Other_Model' label.\"\"\"\n",
    "    return \"Other_Model\" if value in rare_list else value\n",
    "\n",
    "# Apply transformation to both train and test sets\n",
    "train_df[\"model\"] = train_df[\"model\"].apply(lambda m: group_models(m, infrequent_models))\n",
    "test_df[\"model\"] = test_df[\"model\"].apply(lambda m: group_models(m, infrequent_models))\n",
    "\n",
    "# --- Inspect results ---\n",
    "print(\"✔ 'model' column updated with grouped values.\\n\")\n",
    "print(\"Frequency distribution (after grouping):\")\n",
    "print(train_df[\"model\"].value_counts())\n",
    "print(f\"\\nDistinct models remaining: {train_df['model'].nunique()}\")"
   ]
  },
  {
   "cell_type": "code",
   "execution_count": 53,
   "metadata": {
    "colab": {
     "base_uri": "https://localhost:8080/",
     "height": 597
    },
    "id": "nJ9j1qYVoCcY",
    "outputId": "0adef55f-877e-4076-a45b-92ff853566b1"
   },
   "outputs": [
    {
     "data": {
      "text/html": [
       "<div>\n",
       "<style scoped>\n",
       "    .dataframe tbody tr th:only-of-type {\n",
       "        vertical-align: middle;\n",
       "    }\n",
       "\n",
       "    .dataframe tbody tr th {\n",
       "        vertical-align: top;\n",
       "    }\n",
       "\n",
       "    .dataframe thead th {\n",
       "        text-align: right;\n",
       "    }\n",
       "</style>\n",
       "<table border=\"1\" class=\"dataframe\">\n",
       "  <thead>\n",
       "    <tr style=\"text-align: right;\">\n",
       "      <th></th>\n",
       "      <th>id</th>\n",
       "      <th>model_year</th>\n",
       "      <th>milage</th>\n",
       "      <th>fuel_type</th>\n",
       "      <th>engine</th>\n",
       "      <th>transmission</th>\n",
       "      <th>ext_col</th>\n",
       "      <th>int_col</th>\n",
       "      <th>accident</th>\n",
       "      <th>clean_title</th>\n",
       "      <th>brand_grouped</th>\n",
       "      <th>model</th>\n",
       "    </tr>\n",
       "  </thead>\n",
       "  <tbody>\n",
       "    <tr>\n",
       "      <th>0</th>\n",
       "      <td>188533</td>\n",
       "      <td>2015</td>\n",
       "      <td>98000</td>\n",
       "      <td>Gasoline</td>\n",
       "      <td>240.0HP 2.0L 4 Cylinder Engine Gasoline Fuel</td>\n",
       "      <td>6-Speed A/T</td>\n",
       "      <td>White</td>\n",
       "      <td>Beige</td>\n",
       "      <td>None reported</td>\n",
       "      <td>Yes</td>\n",
       "      <td>Land</td>\n",
       "      <td>Other_Model</td>\n",
       "    </tr>\n",
       "    <tr>\n",
       "      <th>1</th>\n",
       "      <td>188534</td>\n",
       "      <td>2020</td>\n",
       "      <td>9142</td>\n",
       "      <td>Hybrid</td>\n",
       "      <td>395.0HP 3.0L Straight 6 Cylinder Engine Gasoli...</td>\n",
       "      <td>8-Speed A/T</td>\n",
       "      <td>Silver</td>\n",
       "      <td>Black</td>\n",
       "      <td>None reported</td>\n",
       "      <td>Yes</td>\n",
       "      <td>Land</td>\n",
       "      <td>Other_Model</td>\n",
       "    </tr>\n",
       "    <tr>\n",
       "      <th>2</th>\n",
       "      <td>188535</td>\n",
       "      <td>2022</td>\n",
       "      <td>28121</td>\n",
       "      <td>Gasoline</td>\n",
       "      <td>3.5L V6 24V PDI DOHC Twin Turbo</td>\n",
       "      <td>10-Speed Automatic</td>\n",
       "      <td>White</td>\n",
       "      <td>Ebony</td>\n",
       "      <td>None reported</td>\n",
       "      <td>NaN</td>\n",
       "      <td>Ford</td>\n",
       "      <td>Other_Model</td>\n",
       "    </tr>\n",
       "    <tr>\n",
       "      <th>3</th>\n",
       "      <td>188536</td>\n",
       "      <td>2016</td>\n",
       "      <td>61258</td>\n",
       "      <td>Gasoline</td>\n",
       "      <td>2.0 Liter TFSI</td>\n",
       "      <td>Automatic</td>\n",
       "      <td>Silician Yellow</td>\n",
       "      <td>Black</td>\n",
       "      <td>None reported</td>\n",
       "      <td>NaN</td>\n",
       "      <td>Audi</td>\n",
       "      <td>Other_Model</td>\n",
       "    </tr>\n",
       "    <tr>\n",
       "      <th>4</th>\n",
       "      <td>188537</td>\n",
       "      <td>2018</td>\n",
       "      <td>59000</td>\n",
       "      <td>Gasoline</td>\n",
       "      <td>252.0HP 2.0L 4 Cylinder Engine Gasoline Fuel</td>\n",
       "      <td>A/T</td>\n",
       "      <td>Gray</td>\n",
       "      <td>Black</td>\n",
       "      <td>None reported</td>\n",
       "      <td>Yes</td>\n",
       "      <td>Audi</td>\n",
       "      <td>Other_Model</td>\n",
       "    </tr>\n",
       "    <tr>\n",
       "      <th>...</th>\n",
       "      <td>...</td>\n",
       "      <td>...</td>\n",
       "      <td>...</td>\n",
       "      <td>...</td>\n",
       "      <td>...</td>\n",
       "      <td>...</td>\n",
       "      <td>...</td>\n",
       "      <td>...</td>\n",
       "      <td>...</td>\n",
       "      <td>...</td>\n",
       "      <td>...</td>\n",
       "      <td>...</td>\n",
       "    </tr>\n",
       "    <tr>\n",
       "      <th>125685</th>\n",
       "      <td>314218</td>\n",
       "      <td>2014</td>\n",
       "      <td>83315</td>\n",
       "      <td>Gasoline</td>\n",
       "      <td>362.0HP 3.0L V6 Cylinder Engine Gasoline Fuel</td>\n",
       "      <td>7-Speed A/T</td>\n",
       "      <td>Black</td>\n",
       "      <td>Black</td>\n",
       "      <td>None reported</td>\n",
       "      <td>Yes</td>\n",
       "      <td>Mercedes-Benz</td>\n",
       "      <td>Other_Model</td>\n",
       "    </tr>\n",
       "    <tr>\n",
       "      <th>125686</th>\n",
       "      <td>314219</td>\n",
       "      <td>2019</td>\n",
       "      <td>29336</td>\n",
       "      <td>Gasoline</td>\n",
       "      <td>3.0 Liter Turbo</td>\n",
       "      <td>Automatic</td>\n",
       "      <td>White</td>\n",
       "      <td>Black</td>\n",
       "      <td>None reported</td>\n",
       "      <td>NaN</td>\n",
       "      <td>Audi</td>\n",
       "      <td>Other_Model</td>\n",
       "    </tr>\n",
       "    <tr>\n",
       "      <th>125687</th>\n",
       "      <td>314220</td>\n",
       "      <td>2012</td>\n",
       "      <td>77634</td>\n",
       "      <td>Gasoline</td>\n",
       "      <td>333.0HP 3.0L V6 Cylinder Engine Gasoline Fuel</td>\n",
       "      <td>A/T</td>\n",
       "      <td>Black</td>\n",
       "      <td>Black</td>\n",
       "      <td>None reported</td>\n",
       "      <td>Yes</td>\n",
       "      <td>Audi</td>\n",
       "      <td>Other_Model</td>\n",
       "    </tr>\n",
       "    <tr>\n",
       "      <th>125688</th>\n",
       "      <td>314221</td>\n",
       "      <td>2012</td>\n",
       "      <td>112000</td>\n",
       "      <td>Gasoline</td>\n",
       "      <td>333.0HP 3.0L V6 Cylinder Engine Gasoline Fuel</td>\n",
       "      <td>A/T</td>\n",
       "      <td>Black</td>\n",
       "      <td>Black</td>\n",
       "      <td>None reported</td>\n",
       "      <td>Yes</td>\n",
       "      <td>Audi</td>\n",
       "      <td>Other_Model</td>\n",
       "    </tr>\n",
       "    <tr>\n",
       "      <th>125689</th>\n",
       "      <td>314222</td>\n",
       "      <td>2018</td>\n",
       "      <td>66840</td>\n",
       "      <td>Gasoline</td>\n",
       "      <td>355.0HP 5.3L 8 Cylinder Engine Gasoline Fuel</td>\n",
       "      <td>A/T</td>\n",
       "      <td>Silver</td>\n",
       "      <td>Black</td>\n",
       "      <td>None reported</td>\n",
       "      <td>Yes</td>\n",
       "      <td>Chevrolet</td>\n",
       "      <td>Other_Model</td>\n",
       "    </tr>\n",
       "  </tbody>\n",
       "</table>\n",
       "<p>125690 rows × 12 columns</p>\n",
       "</div>"
      ],
      "text/plain": [
       "            id  model_year  milage fuel_type  \\\n",
       "0       188533        2015   98000  Gasoline   \n",
       "1       188534        2020    9142    Hybrid   \n",
       "2       188535        2022   28121  Gasoline   \n",
       "3       188536        2016   61258  Gasoline   \n",
       "4       188537        2018   59000  Gasoline   \n",
       "...        ...         ...     ...       ...   \n",
       "125685  314218        2014   83315  Gasoline   \n",
       "125686  314219        2019   29336  Gasoline   \n",
       "125687  314220        2012   77634  Gasoline   \n",
       "125688  314221        2012  112000  Gasoline   \n",
       "125689  314222        2018   66840  Gasoline   \n",
       "\n",
       "                                                   engine        transmission  \\\n",
       "0            240.0HP 2.0L 4 Cylinder Engine Gasoline Fuel         6-Speed A/T   \n",
       "1       395.0HP 3.0L Straight 6 Cylinder Engine Gasoli...         8-Speed A/T   \n",
       "2                         3.5L V6 24V PDI DOHC Twin Turbo  10-Speed Automatic   \n",
       "3                                          2.0 Liter TFSI           Automatic   \n",
       "4            252.0HP 2.0L 4 Cylinder Engine Gasoline Fuel                 A/T   \n",
       "...                                                   ...                 ...   \n",
       "125685      362.0HP 3.0L V6 Cylinder Engine Gasoline Fuel         7-Speed A/T   \n",
       "125686                                    3.0 Liter Turbo           Automatic   \n",
       "125687      333.0HP 3.0L V6 Cylinder Engine Gasoline Fuel                 A/T   \n",
       "125688      333.0HP 3.0L V6 Cylinder Engine Gasoline Fuel                 A/T   \n",
       "125689       355.0HP 5.3L 8 Cylinder Engine Gasoline Fuel                 A/T   \n",
       "\n",
       "                ext_col int_col       accident clean_title  brand_grouped  \\\n",
       "0                 White   Beige  None reported         Yes           Land   \n",
       "1                Silver   Black  None reported         Yes           Land   \n",
       "2                 White   Ebony  None reported         NaN           Ford   \n",
       "3       Silician Yellow   Black  None reported         NaN           Audi   \n",
       "4                  Gray   Black  None reported         Yes           Audi   \n",
       "...                 ...     ...            ...         ...            ...   \n",
       "125685            Black   Black  None reported         Yes  Mercedes-Benz   \n",
       "125686            White   Black  None reported         NaN           Audi   \n",
       "125687            Black   Black  None reported         Yes           Audi   \n",
       "125688            Black   Black  None reported         Yes           Audi   \n",
       "125689           Silver   Black  None reported         Yes      Chevrolet   \n",
       "\n",
       "              model  \n",
       "0       Other_Model  \n",
       "1       Other_Model  \n",
       "2       Other_Model  \n",
       "3       Other_Model  \n",
       "4       Other_Model  \n",
       "...             ...  \n",
       "125685  Other_Model  \n",
       "125686  Other_Model  \n",
       "125687  Other_Model  \n",
       "125688  Other_Model  \n",
       "125689  Other_Model  \n",
       "\n",
       "[125690 rows x 12 columns]"
      ]
     },
     "execution_count": 53,
     "metadata": {},
     "output_type": "execute_result"
    }
   ],
   "source": [
    "test_df"
   ]
  },
  {
   "cell_type": "markdown",
   "metadata": {
    "id": "fG5v1CoZqGOx"
   },
   "source": [
    "Step 3: Creating a 'car_age' feature for both train and test data\n"
   ]
  },
  {
   "cell_type": "code",
   "execution_count": 56,
   "metadata": {
    "id": "30R4Nq_koD7k"
   },
   "outputs": [],
   "source": [
    "# --- Feature Engineering: Car Age ---\n",
    "\n",
    "REFERENCE_YEAR = 2025  # fixed reference point for consistency across datasets\n",
    "\n",
    "def calculate_car_age(year, ref_year=REFERENCE_YEAR):\n",
    "    \"\"\"Compute age of car given its model year and a reference year.\"\"\"\n",
    "    return ref_year - year\n",
    "\n",
    "# Apply to both training and test sets\n",
    "train_df[\"car_age\"] = train_df[\"model_year\"].apply(calculate_car_age)\n",
    "test_df[\"car_age\"] = test_df[\"model_year\"].apply(calculate_car_age)"
   ]
  },
  {
   "cell_type": "code",
   "execution_count": 58,
   "metadata": {
    "id": "KbH7-S53qveK"
   },
   "outputs": [],
   "source": [
    "# creating age buckets to group the data\n",
    "bins = [-1, 5, 10, float('inf')]\n",
    "labels = ['0-5_years', '6-10_years', '10+_years']\n",
    "\n",
    "train_df['car_age_bucket'] = pd.cut(train_df['car_age'], bins=bins, labels=labels)\n",
    "test_df['car_age_bucket'] = pd.cut(test_df['car_age'], bins=bins, labels=labels)"
   ]
  },
  {
   "cell_type": "code",
   "execution_count": 60,
   "metadata": {
    "colab": {
     "base_uri": "https://localhost:8080/"
    },
    "id": "Ql1FUe8Hqvhc",
    "outputId": "fa8a594b-2b4f-4c1c-cc06-e5a76d705a96"
   },
   "outputs": [
    {
     "name": "stdout",
     "output_type": "stream",
     "text": [
      "New 'car_age' and 'car_age_bucket' features are being created.\n",
      "Sample of the new 'car_age' feature from the training data:\n",
      "0    18\n",
      "1    23\n",
      "2    23\n",
      "3     8\n",
      "4     4\n",
      "Name: car_age, dtype: int64\n",
      "\n",
      "Value counts of the new 'car_age_bucket' feature from the training data:\n",
      "car_age_bucket\n",
      "6-10_years    69702\n",
      "10+_years     60105\n",
      "0-5_years     58726\n",
      "Name: count, dtype: int64\n"
     ]
    }
   ],
   "source": [
    "# dropping the original 'model_year' column\n",
    "train_df.drop('model_year', axis=1, inplace=True)\n",
    "test_df.drop('model_year', axis=1, inplace=True)"
   ]
  },
  {
   "cell_type": "code",
   "execution_count": 63,
   "metadata": {
    "id": "hA81tC9Fq2M2"
   },
   "outputs": [],
   "source": [
    "# --- Feature Engineering: Mileage per year of usage ---\n",
    "# Adding +1 to age ensures brand-new cars don't cause division by zero.\n",
    "\n",
    "for df in (train_df, test_df):\n",
    "    df[\"mileage_per_year\"] = df[\"milage\"] / (df[\"car_age\"] + 1)\n"
   ]
  },
  {
   "cell_type": "code",
   "execution_count": 65,
   "metadata": {
    "colab": {
     "base_uri": "https://localhost:8080/"
    },
    "id": "BN7Ncu7crD6L",
    "outputId": "57ce60b0-356d-4681-f6e0-161edc6e1ba4"
   },
   "outputs": [
    {
     "name": "stdout",
     "output_type": "stream",
     "text": [
      "New 'mileage_per_year' feature is being created, and 'milage' outliers are being handled.\n",
      "\n",
      "Sample of the new 'mileage_per_year' feature from the training data:\n",
      "0    11210.526316\n",
      "1     5968.750000\n",
      "2     5697.125000\n",
      "3     2166.666667\n",
      "4     1477.600000\n",
      "Name: mileage_per_year, dtype: float64\n"
     ]
    }
   ],
   "source": [
    "# --- Handle extreme values in 'milage' using percentile clipping\n",
    "\n",
    "q01, q99 = train_df[\"milage\"].quantile([0.01, 0.99])\n",
    "\n",
    "for df in (train_df, test_df):\n",
    "    df[\"milage\"] = df[\"milage\"].clip(lower=q01, upper=q99)\n",
    "\n",
    "# --- Quick check ---\n",
    "print(\"✔ Applied mileage clipping at 1st and 99th percentiles.\\n\")\n",
    "\n",
    "print(\"Preview of 'mileage_per_year' (train set):\")\n",
    "print(train_df[\"mileage_per_year\"].head().to_string(index=False))\n"
   ]
  },
  {
   "cell_type": "code",
   "execution_count": 72,
   "metadata": {
    "id": "rXFWD_X8tZdh"
   },
   "outputs": [],
   "source": [
    "# Mapping  categories\n",
    "fuel_mapping = {\n",
    "    'Gasoline': 'Gasoline',\n",
    "    'Diesel': 'Diesel',\n",
    "    'Hybrid': 'Hybrid',\n",
    "    'Plug-In Hybrid': 'Hybrid',\n",
    "    'E85 Flex Fuel': 'Flex Fuel'\n",
    "}"
   ]
  },
  {
   "cell_type": "code",
   "execution_count": 74,
   "metadata": {
    "id": "9Q7nJ-JduYZI"
   },
   "outputs": [],
   "source": [
    "# --- Normalize fuel_type values and replace rare ones with 'Unknown' ---\n",
    "for df in (train_df, test_df):\n",
    "    df[\"fuel_type_cleaned\"] = df[\"fuel_type\"].map(fuel_mapping).fillna(\"Unknown\")\n",
    "    df.drop(columns=\"fuel_type\", inplace=True, errors=\"ignore\")\n"
   ]
  },
  {
   "cell_type": "code",
   "execution_count": 76,
   "metadata": {
    "colab": {
     "base_uri": "https://localhost:8080/"
    },
    "id": "ysfKF4Ofub1w",
    "outputId": "65e98d54-226a-4729-b408-16be0949e9cf"
   },
   "outputs": [
    {
     "name": "stdout",
     "output_type": "stream",
     "text": [
      "\n",
      "Unique 'fuel_type' values after cleaning:\n",
      "['Gasoline' 'Flex Fuel' 'Unknown' 'Hybrid' 'Diesel']\n",
      "\n",
      "Value counts after cleaning: fuel_type\n",
      "Gasoline     165940\n",
      "Hybrid         7353\n",
      "Unknown        5879\n",
      "Flex Fuel      5406\n",
      "Diesel         3955\n",
      "Name: count, dtype: int64\n"
     ]
    }
   ],
   "source": [
    "# --- Finalize cleaned fuel_type column ---\n",
    "\n",
    "for df in (train_df, test_df):\n",
    "    df.rename(columns={\"fuel_type_cleaned\": \"fuel_type\"}, inplace=True)\n",
    "\n",
    "# --- Sanity check ---\n",
    "print(\"\\n✔ fuel_type categories after cleaning:\")\n",
    "print(train_df[\"fuel_type\"].unique())\n",
    "\n",
    "print(\"\\nDistribution of fuel_type (train set):\")\n",
    "print(train_df[\"fuel_type\"].value_counts())\n"
   ]
  },
  {
   "cell_type": "code",
   "execution_count": 81,
   "metadata": {
    "colab": {
     "base_uri": "https://localhost:8080/"
    },
    "id": "mkJgNwb-ukc_",
    "outputId": "b2cab4a4-0625-432e-dcc3-964a55561a18"
   },
   "outputs": [
    {
     "name": "stdout",
     "output_type": "stream",
     "text": [
      "The 'engine' column has been successfully cleaned and the warning is resolved.\n",
      "\n",
      "Sample of new features from training data:\n",
      "   horsepower  engine_size  cylinders\n",
      "0       172.0          1.6        4.0\n",
      "1       252.0          3.9        8.0\n",
      "2       320.0          5.3        8.0\n",
      "3       420.0          5.0        8.0\n",
      "4       208.0          2.0        4.0\n"
     ]
    }
   ],
   "source": [
    "# --- Feature Engineering: Decompose 'engine' into numeric attributes\n",
    "\n",
    "def extract_engine_features(df):\n",
    "    df[\"horsepower\"]  = df[\"engine\"].str.extract(r\"(\\d+\\.?\\d*)HP\").astype(float)\n",
    "    df[\"engine_size\"] = df[\"engine\"].str.extract(r\"(\\d+\\.?\\d*)L\").astype(float)\n",
    "    df[\"cylinders\"]   = df[\"engine\"].str.extract(r\"(\\d+)\\s+Cylinder\").astype(float)\n",
    "    return df\n",
    "\n",
    "# Apply extraction to both datasets\n",
    "train_df = extract_engine_features(train_df)\n",
    "test_df  = extract_engine_features(test_df)\n",
    "\n",
    "# Fill missing values with training medians\n",
    "for feature in [\"horsepower\", \"engine_size\", \"cylinders\"]:\n",
    "    median = train_df[feature].median()\n",
    "    train_df[feature].fillna(median, inplace=True)\n",
    "    test_df[feature].fillna(median, inplace=True)\n",
    "\n",
    "# Drop original text column\n",
    "for df in (train_df, test_df):\n",
    "    df.drop(columns=\"engine\", inplace=True, errors=\"ignore\")\n",
    "\n",
    "# --- Sanity check ---\n",
    "print(\"✔ Engine column parsed successfully.\\n\")\n",
    "print(\"Preview of derived features (train set):\")\n",
    "print(train_df[[\"horsepower\", \"engine_size\", \"cylinders\"]].head().to_string(index=False))\n"
   ]
  },
  {
   "cell_type": "code",
   "execution_count": 86,
   "metadata": {
    "id": "0NwZCX_71hot"
   },
   "outputs": [],
   "source": [
    "# --- Simplify transmission categories ---\n",
    "\n",
    "def normalize_transmission(value: str) -> str:\n",
    "    \"\"\"Map raw transmission descriptions into a few broad categories.\"\"\"\n",
    "    val = str(value).lower()\n",
    "    if any(term in val for term in [\"automatic\", \"a/t\", \"cvt\", \"dual shift\", \"dct\"]):\n",
    "        return \"Automatic\"\n",
    "    if any(term in val for term in [\"manual\", \"m/t\"]):\n",
    "        return \"Manual\"\n",
    "    if \"single-speed\" in val:\n",
    "        return \"Single-Speed\"\n",
    "    return \"Other\"\n",
    "\n",
    "# Apply to both training and test sets\n",
    "for df in (train_df, test_df):\n",
    "    df[\"transmission_simplified\"] = df[\"transmission\"].apply(normalize_transmission)\n"
   ]
  },
  {
   "cell_type": "code",
   "execution_count": 88,
   "metadata": {
    "colab": {
     "base_uri": "https://localhost:8080/"
    },
    "id": "sPAh_Hza1hvI",
    "outputId": "dd922c32-794e-4231-df85-f117df372e55"
   },
   "outputs": [
    {
     "name": "stdout",
     "output_type": "stream",
     "text": [
      "The 'transmission' column has been cleaned and simplified.\n",
      "\n",
      "Unique values after cleaning:\n",
      "transmission\n",
      "Automatic       171562\n",
      "Manual           16358\n",
      "Other              597\n",
      "Single-Speed        16\n",
      "Name: count, dtype: int64\n"
     ]
    }
   ],
   "source": [
    "# Replace raw 'transmission' with simplified version\n",
    "for df in (train_df, test_df):\n",
    "    df.drop(\"transmission\", axis=1, inplace=True)\n",
    "    df.rename(columns={\"transmission_simplified\": \"transmission\"}, inplace=True)\n",
    "\n",
    "# Verification\n",
    "print(\"✅ 'transmission' column cleaned and simplified.\\n\")\n",
    "print(\"Unique values (train set):\")\n",
    "print(train_df[\"transmission\"].value_counts())\n"
   ]
  },
  {
   "cell_type": "code",
   "execution_count": 91,
   "metadata": {
    "id": "yJR-r1E86Iqh"
   },
   "outputs": [],
   "source": [
    "# Defining a mapping for base colors\n",
    "color_map = {\n",
    "    r'black|onyx|ebony|nero|carbon': 'Black',\n",
    "    r'white|pearl|arctic|alpine|ivory': 'White',\n",
    "    r'gray|silver|titanium|granite|magnetite|charcoal': 'Gray',\n",
    "    r'red|ruby|crimson|scarlet': 'Red',\n",
    "    r'blue|indigo|sapphire|ocean|navy': 'Blue',\n",
    "    r'green|emerald': 'Green',\n",
    "    r'brown|beige|bronze|tan|sand': 'Brown',\n",
    "    r'yellow|gold': 'Yellow',\n",
    "    r'orange': 'Orange'\n",
    "}\n",
    "\n",
    "# Applying the mapping to both dataframes\n",
    "def map_color(series):\n",
    "    # Convert to string and lowercase to ensure consistency\n",
    "    series = series.astype(str).str.lower()\n",
    "    # Default all values to 'Other'\n",
    "    new_series = pd.Series('Other', index=series.index)\n",
    "    # Apply the color mapping using regex\n",
    "    for pattern, color in color_map.items():\n",
    "        new_series[series.str.contains(pattern, na=False, regex=True)] = color\n",
    "    return new_series"
   ]
  },
  {
   "cell_type": "code",
   "execution_count": 93,
   "metadata": {
    "colab": {
     "base_uri": "https://localhost:8080/"
    },
    "id": "-8Nb-tsF6Iub",
    "outputId": "60df62a7-b644-4c73-c093-8f0bdcdd424f"
   },
   "outputs": [
    {
     "name": "stdout",
     "output_type": "stream",
     "text": [
      "The 'ext_col' column has been cleaned and simplified.\n",
      "\n",
      "Unique values after cleaning:\n",
      "ext_col\n",
      "Black     53673\n",
      "White     48400\n",
      "Gray      45949\n",
      "Blue      16013\n",
      "Red       11819\n",
      "Other      3317\n",
      "Green      2975\n",
      "Yellow     2662\n",
      "Brown      2577\n",
      "Orange     1148\n",
      "Name: count, dtype: int64\n"
     ]
    }
   ],
   "source": [
    "train_df['ext_col_simplified'] = map_color(train_df['ext_col'])\n",
    "test_df['ext_col_simplified'] = map_color(test_df['ext_col'])\n",
    "\n",
    "# Dropping the original column and rename the new one\n",
    "train_df.drop('ext_col', axis=1, inplace=True)\n",
    "test_df.drop('ext_col', axis=1, inplace=True)\n",
    "\n",
    "train_df.rename(columns={'ext_col_simplified': 'ext_col'}, inplace=True)\n",
    "test_df.rename(columns={'ext_col_simplified': 'ext_col'}, inplace=True)"
   ]
  },
  {
   "cell_type": "code",
   "execution_count": 96,
   "metadata": {
    "id": "rISaWc2m3mJu"
   },
   "outputs": [],
   "source": [
    "# Defining a mapping for interior base colors\n",
    "int_color_map = {\n",
    "    r'black|onyx|ebony|nero|carbon|noir': 'Black',\n",
    "    r'white|ivory|oyster|parchment': 'White',\n",
    "    r'gray|silver|slate|graphite|charcoal': 'Gray',\n",
    "    r'red|crimson|scarlet': 'Red',\n",
    "    r'blue|navy': 'Blue',\n",
    "    r'green': 'Green',\n",
    "    r'brown|beige|tan|saddle|cognac': 'Brown',\n",
    "    r'yellow|gold': 'Yellow'\n",
    "}"
   ]
  },
  {
   "cell_type": "code",
   "execution_count": 98,
   "metadata": {
    "id": "7q2bQV9C3mNK"
   },
   "outputs": [],
   "source": [
    "# Apply the mapping to both dataframes\n",
    "def map_int_color(series):\n",
    "    # Convert to string and lowercase\n",
    "    series = series.astype(str).str.lower()\n",
    "    # Default all values to 'Other'\n",
    "    new_series = pd.Series('Other', index=series.index)\n",
    "    # Apply the color mapping using regex\n",
    "    for pattern, color in int_color_map.items():\n",
    "        new_series[series.str.contains(pattern, na=False, regex=True)] = color\n",
    "    return new_series\n",
    "\n",
    "train_df['int_col_simplified'] = map_int_color(train_df['int_col'])\n",
    "test_df['int_col_simplified'] = map_int_color(test_df['int_col'])"
   ]
  },
  {
   "cell_type": "code",
   "execution_count": 99,
   "metadata": {
    "colab": {
     "base_uri": "https://localhost:8080/"
    },
    "id": "MB5LjSh73mQ8",
    "outputId": "404d284b-093c-41bd-ea10-72877794a6f3"
   },
   "outputs": [
    {
     "name": "stdout",
     "output_type": "stream",
     "text": [
      "The 'int_col' column has been cleaned and simplified.\n",
      "\n",
      "Unique values after cleaning:\n",
      "int_col\n",
      "Black     113842\n",
      "Brown      31617\n",
      "Gray       22954\n",
      "Other       7467\n",
      "Red         5971\n",
      "White       5149\n",
      "Blue         901\n",
      "Yellow       418\n",
      "Green        214\n",
      "Name: count, dtype: int64\n"
     ]
    }
   ],
   "source": [
    "# Dropping the original column and rename the new one\n",
    "train_df.drop('int_col', axis=1, inplace=True)\n",
    "test_df.drop('int_col', axis=1, inplace=True)\n",
    "\n",
    "train_df.rename(columns={'int_col_simplified': 'int_col'}, inplace=True)\n",
    "test_df.rename(columns={'int_col_simplified': 'int_col'}, inplace=True)"
   ]
  },
  {
   "cell_type": "markdown",
   "metadata": {
    "id": "XxsWdDZA4sSd"
   },
   "source": [
    "Step 10: Cleaning accident"
   ]
  },
  {
   "cell_type": "code",
   "execution_count": 103,
   "metadata": {
    "id": "1uYCupjpyPk-"
   },
   "outputs": [],
   "source": [
    "# mapping the string values to integers and assuming NaN equals to no accident\n",
    "accident_mapping = {\n",
    "    'None reported': 0,\n",
    "    'At least 1 accident or damage reported': 1,\n",
    "    np.nan: 0\n",
    "}\n",
    "\n",
    "train_df['accident_cleaned'] = train_df['accident'].map(accident_mapping).fillna(0)\n",
    "test_df['accident_cleaned'] = test_df['accident'].map(accident_mapping).fillna(0)"
   ]
  },
  {
   "cell_type": "code",
   "execution_count": 105,
   "metadata": {
    "colab": {
     "base_uri": "https://localhost:8080/"
    },
    "id": "Kh56Rn4c5CKz",
    "outputId": "d4ceacd8-06eb-4fca-dd63-da408d0bf692"
   },
   "outputs": [
    {
     "name": "stdout",
     "output_type": "stream",
     "text": [
      "The 'accident' column has been converted to a binary numeric format.\n",
      "\n",
      "Unique values after cleaning:\n",
      "accident\n",
      "0    146966\n",
      "1     41567\n",
      "Name: count, dtype: int64\n"
     ]
    }
   ],
   "source": [
    "# Dropping the original column and rename the new one\n",
    "train_df.drop('accident', axis=1, inplace=True)\n",
    "test_df.drop('accident', axis=1, inplace=True)\n",
    "\n",
    "train_df.rename(columns={'accident_cleaned': 'accident'}, inplace=True)\n",
    "test_df.rename(columns={'accident_cleaned': 'accident'}, inplace=True)"
   ]
  },
  {
   "cell_type": "code",
   "execution_count": 108,
   "metadata": {
    "id": "awgS0n9f-yb-"
   },
   "outputs": [],
   "source": [
    "# Mapping 'Yes' to 1, 'No' to 0\n",
    "title_mapping = {\n",
    "    'Yes': 1,\n",
    "    'No': 0,\n",
    "    np.nan: 1\n",
    "}\n",
    "\n",
    "train_df['clean_title'] = train_df['clean_title'].map(title_mapping).fillna(1)\n",
    "test_df['clean_title'] = test_df['clean_title'].map(title_mapping).fillna(1)"
   ]
  },
  {
   "cell_type": "markdown",
   "metadata": {},
   "source": [
    "### Model Preparation"
   ]
  },
  {
   "cell_type": "code",
   "execution_count": 119,
   "metadata": {
    "id": "mD15sIpy_QFQ"
   },
   "outputs": [],
   "source": [
    "# Separate the target variable ('price') from the training data\n",
    "X_train = train_df.drop(['id', 'price'], axis=1)\n",
    "y_train = train_df['price']\n",
    "\n",
    "# Drop the id column from the test data\n",
    "X_test = test_df.drop('id', axis=1)"
   ]
  },
  {
   "cell_type": "code",
   "execution_count": 121,
   "metadata": {
    "id": "FU0XkTvq_Qta"
   },
   "outputs": [],
   "source": [
    "# Identify categorical columns for encoding\n",
    "categorical_cols = [\n",
    "    'brand_grouped',\n",
    "    'model',\n",
    "    'fuel_type',\n",
    "    'transmission',\n",
    "    'ext_col',\n",
    "    'int_col',\n",
    "    'car_age_bucket'\n",
    "]\n"
   ]
  },
  {
   "cell_type": "code",
   "execution_count": 123,
   "metadata": {
    "id": "uCZKY5r2_-5l"
   },
   "outputs": [],
   "source": [
    "# Apply One-Hot Encoding to categorical columns\n",
    "X_train_temp = X_train.copy()\n",
    "X_test_temp = X_test.copy()"
   ]
  },
  {
   "cell_type": "code",
   "execution_count": 125,
   "metadata": {
    "id": "6_Q_BEuG_-9W"
   },
   "outputs": [],
   "source": [
    "from sklearn.preprocessing import OneHotEncoder\n",
    "\n",
    "ohe = OneHotEncoder(handle_unknown='ignore', sparse_output=False)\n",
    "ohe.fit(X_train_temp[categorical_cols])\n",
    "\n",
    "X_train_ohe = ohe.transform(X_train_temp[categorical_cols])\n",
    "X_test_ohe = ohe.transform(X_test_temp[categorical_cols])"
   ]
  },
  {
   "cell_type": "code",
   "execution_count": 126,
   "metadata": {
    "id": "WWrhhTWBAPOS"
   },
   "outputs": [],
   "source": [
    "# Create DataFrames with the encoded features\n",
    "X_train_ohe_df = pd.DataFrame(X_train_ohe, columns=ohe.get_feature_names_out(categorical_cols))\n",
    "X_test_ohe_df = pd.DataFrame(X_test_ohe, columns=ohe.get_feature_names_out(categorical_cols))\n",
    "\n",
    "# Combine numerical and encoded features\n",
    "numerical_cols = X_train_temp.select_dtypes(include=np.number).columns.tolist()\n",
    "\n",
    "# Concatenate the final dataframes\n",
    "X_train_final = pd.concat([X_train_temp[numerical_cols].reset_index(drop=True), X_train_ohe_df], axis=1)\n",
    "X_test_final = pd.concat([X_test_temp[numerical_cols].reset_index(drop=True), X_test_ohe_df], axis=1)"
   ]
  },
  {
   "cell_type": "markdown",
   "metadata": {
    "id": "EBlvUwFEBXSI"
   },
   "source": [
    "#### Building baseline model"
   ]
  },
  {
   "cell_type": "code",
   "execution_count": 132,
   "metadata": {
    "colab": {
     "base_uri": "https://localhost:8080/"
    },
    "id": "vltQDfuBBWnn",
    "outputId": "8c814bae-4f72-4534-8b79-4fa4fb777a8c"
   },
   "outputs": [
    {
     "name": "stdout",
     "output_type": "stream",
     "text": [
      "Calculating a reliable RMSE using 5-fold cross-validation...\n",
      "Fold 1 RMSE: 69620.6052\n",
      "Fold 2 RMSE: 69949.0431\n",
      "Fold 3 RMSE: 75151.3038\n",
      "Fold 4 RMSE: 77881.0388\n",
      "Fold 5 RMSE: 77782.7168\n"
     ]
    }
   ],
   "source": [
    "kf = KFold(n_splits=5, shuffle=True, random_state=42)\n",
    "rmse_scores = []\n",
    "\n",
    "# Looping through each fold\n",
    "for fold, (train_index, val_index) in enumerate(kf.split(X_train_final, y_train)):\n",
    "    X_train_fold, X_val_fold = X_train_final.iloc[train_index], X_train_final.iloc[val_index]\n",
    "    y_train_fold, y_val_fold = y_train.iloc[train_index], y_train.iloc[val_index]\n",
    "\n",
    "    # Initializing and training the Linear Regression model for this fold\n",
    "    lr_model = LinearRegression()\n",
    "    lr_model.fit(X_train_fold, y_train_fold)\n",
    "\n",
    "    val_predictions = lr_model.predict(X_val_fold)\n",
    "\n",
    "    # Calculate RMSE for this fold\n",
    "    rmse_fold = np.sqrt(mean_squared_error(y_val_fold, val_predictions))\n",
    "    rmse_scores.append(rmse_fold)\n",
    "    print(f\"Fold {fold+1} RMSE: {rmse_fold:.4f}\")"
   ]
  },
  {
   "cell_type": "code",
   "execution_count": 134,
   "metadata": {
    "colab": {
     "base_uri": "https://localhost:8080/"
    },
    "id": "c5toYxVIBkDU",
    "outputId": "6d656397-bcaf-47c5-c90d-5c6ac667f65a"
   },
   "outputs": [
    {
     "name": "stdout",
     "output_type": "stream",
     "text": [
      "\n",
      "Average Cross-Validation RMSE: 74076.9415\n",
      "\n",
      "Training final model on the entire training dataset...\n",
      "\n",
      "Predictions are complete.\n",
      "Submission file 'submissionone.csv' has been created.\n",
      "\n",
      "Sample of the submission file:\n",
      "       id         price\n",
      "0  188533  22432.831378\n",
      "1  188534  73727.257569\n",
      "2  188535  58214.517587\n",
      "3  188536  44323.425406\n",
      "4  188537  32926.610626\n"
     ]
    }
   ],
   "source": [
    "# Calculate the average RMSE across all folds\n",
    "avg_rmse = np.mean(rmse_scores)\n",
    "print(f\"\\nAverage Cross-Validation RMSE: {avg_rmse:.4f}\")\n",
    "\n",
    "# Training the final model and make predictions\n",
    "final_lr_model = LinearRegression()\n",
    "final_lr_model.fit(X_train_final, y_train)\n",
    "\n",
    "# Make predictions on the test data\n",
    "final_predictions = final_lr_model.predict(X_test_final)\n",
    "\n",
    "# Create and save the submission DataFrame\n",
    "submission_df = pd.DataFrame({\n",
    "    'id': test_ids,\n",
    "    'price': final_predictions\n",
    "})\n",
    "\n",
    "# Save the DataFrame to a CSV file with the requested name\n",
    "submission_df.to_csv('submission.csv', index=False)"
   ]
  },
  {
   "cell_type": "markdown",
   "metadata": {},
   "source": [
    "#### Building an LGBM Model"
   ]
  },
  {
   "cell_type": "code",
   "execution_count": 137,
   "metadata": {
    "colab": {
     "base_uri": "https://localhost:8080/"
    },
    "id": "vWTVK92VCiSB",
    "outputId": "702065b9-1591-4f01-f579-2f91b21ac233",
    "scrolled": true
   },
   "outputs": [
    {
     "name": "stdout",
     "output_type": "stream",
     "text": [
      "Starting Randomized Search for LightGBM...\n",
      "Fitting 5 folds for each of 50 candidates, totalling 250 fits\n",
      "[LightGBM] [Warning] Found whitespace in feature_names, replace with underlines\n",
      "[LightGBM] [Info] Auto-choosing row-wise multi-threading, the overhead of testing was 0.020849 seconds.\n",
      "You can set `force_row_wise=true` to remove the overhead.\n",
      "And if memory is not enough, you can set `force_col_wise=true`.\n",
      "[LightGBM] [Info] Total Bins 952\n",
      "[LightGBM] [Info] Number of data points in the train set: 188533, number of used features: 65\n",
      "[LightGBM] [Info] Start training from score 43878.016178\n",
      "[LightGBM] [Warning] No further splits with positive gain, best gain: -inf\n",
      "[LightGBM] [Warning] No further splits with positive gain, best gain: -inf\n",
      "[LightGBM] [Warning] No further splits with positive gain, best gain: -inf\n",
      "[LightGBM] [Warning] No further splits with positive gain, best gain: -inf\n",
      "[LightGBM] [Warning] No further splits with positive gain, best gain: -inf\n",
      "[LightGBM] [Warning] No further splits with positive gain, best gain: -inf\n",
      "[LightGBM] [Warning] No further splits with positive gain, best gain: -inf\n",
      "[LightGBM] [Warning] No further splits with positive gain, best gain: -inf\n",
      "[LightGBM] [Warning] No further splits with positive gain, best gain: -inf\n",
      "[LightGBM] [Warning] No further splits with positive gain, best gain: -inf\n",
      "[LightGBM] [Warning] No further splits with positive gain, best gain: -inf\n",
      "[LightGBM] [Warning] No further splits with positive gain, best gain: -inf\n",
      "[LightGBM] [Warning] No further splits with positive gain, best gain: -inf\n",
      "[LightGBM] [Warning] No further splits with positive gain, best gain: -inf\n",
      "[LightGBM] [Warning] No further splits with positive gain, best gain: -inf\n",
      "[LightGBM] [Warning] No further splits with positive gain, best gain: -inf\n",
      "[LightGBM] [Warning] No further splits with positive gain, best gain: -inf\n",
      "[LightGBM] [Warning] No further splits with positive gain, best gain: -inf\n",
      "[LightGBM] [Warning] No further splits with positive gain, best gain: -inf\n",
      "[LightGBM] [Warning] No further splits with positive gain, best gain: -inf\n",
      "[LightGBM] [Warning] No further splits with positive gain, best gain: -inf\n",
      "[LightGBM] [Warning] No further splits with positive gain, best gain: -inf\n",
      "[LightGBM] [Warning] No further splits with positive gain, best gain: -inf\n",
      "[LightGBM] [Warning] No further splits with positive gain, best gain: -inf\n",
      "[LightGBM] [Warning] No further splits with positive gain, best gain: -inf\n",
      "[LightGBM] [Warning] No further splits with positive gain, best gain: -inf\n",
      "[LightGBM] [Warning] No further splits with positive gain, best gain: -inf\n",
      "[LightGBM] [Warning] No further splits with positive gain, best gain: -inf\n",
      "[LightGBM] [Warning] No further splits with positive gain, best gain: -inf\n",
      "[LightGBM] [Warning] No further splits with positive gain, best gain: -inf\n",
      "[LightGBM] [Warning] No further splits with positive gain, best gain: -inf\n",
      "[LightGBM] [Warning] No further splits with positive gain, best gain: -inf\n",
      "[LightGBM] [Warning] No further splits with positive gain, best gain: -inf\n",
      "[LightGBM] [Warning] No further splits with positive gain, best gain: -inf\n",
      "[LightGBM] [Warning] No further splits with positive gain, best gain: -inf\n",
      "[LightGBM] [Warning] No further splits with positive gain, best gain: -inf\n",
      "[LightGBM] [Warning] No further splits with positive gain, best gain: -inf\n",
      "[LightGBM] [Warning] No further splits with positive gain, best gain: -inf\n",
      "[LightGBM] [Warning] No further splits with positive gain, best gain: -inf\n",
      "[LightGBM] [Warning] No further splits with positive gain, best gain: -inf\n",
      "[LightGBM] [Warning] No further splits with positive gain, best gain: -inf\n",
      "[LightGBM] [Warning] No further splits with positive gain, best gain: -inf\n",
      "[LightGBM] [Warning] No further splits with positive gain, best gain: -inf\n",
      "[LightGBM] [Warning] No further splits with positive gain, best gain: -inf\n",
      "[LightGBM] [Warning] No further splits with positive gain, best gain: -inf\n",
      "[LightGBM] [Warning] No further splits with positive gain, best gain: -inf\n",
      "[LightGBM] [Warning] No further splits with positive gain, best gain: -inf\n",
      "[LightGBM] [Warning] No further splits with positive gain, best gain: -inf\n",
      "[LightGBM] [Warning] No further splits with positive gain, best gain: -inf\n",
      "[LightGBM] [Warning] No further splits with positive gain, best gain: -inf\n",
      "[LightGBM] [Warning] No further splits with positive gain, best gain: -inf\n",
      "[LightGBM] [Warning] No further splits with positive gain, best gain: -inf\n",
      "[LightGBM] [Warning] No further splits with positive gain, best gain: -inf\n",
      "[LightGBM] [Warning] No further splits with positive gain, best gain: -inf\n",
      "[LightGBM] [Warning] No further splits with positive gain, best gain: -inf\n",
      "[LightGBM] [Warning] No further splits with positive gain, best gain: -inf\n",
      "[LightGBM] [Warning] No further splits with positive gain, best gain: -inf\n",
      "[LightGBM] [Warning] No further splits with positive gain, best gain: -inf\n",
      "[LightGBM] [Warning] No further splits with positive gain, best gain: -inf\n",
      "[LightGBM] [Warning] No further splits with positive gain, best gain: -inf\n",
      "[LightGBM] [Warning] No further splits with positive gain, best gain: -inf\n",
      "[LightGBM] [Warning] No further splits with positive gain, best gain: -inf\n",
      "[LightGBM] [Warning] No further splits with positive gain, best gain: -inf\n",
      "[LightGBM] [Warning] No further splits with positive gain, best gain: -inf\n",
      "[LightGBM] [Warning] No further splits with positive gain, best gain: -inf\n",
      "[LightGBM] [Warning] No further splits with positive gain, best gain: -inf\n",
      "[LightGBM] [Warning] No further splits with positive gain, best gain: -inf\n",
      "[LightGBM] [Warning] No further splits with positive gain, best gain: -inf\n",
      "[LightGBM] [Warning] No further splits with positive gain, best gain: -inf\n",
      "[LightGBM] [Warning] No further splits with positive gain, best gain: -inf\n",
      "[LightGBM] [Warning] No further splits with positive gain, best gain: -inf\n",
      "[LightGBM] [Warning] No further splits with positive gain, best gain: -inf\n",
      "\n",
      "Best LightGBM Parameters: {'subsample': 0.6, 'num_leaves': 70, 'n_estimators': 500, 'max_depth': 7, 'learning_rate': 0.01, 'colsample_bytree': 0.6}\n",
      "Best Cross-Validation RMSE: 72785.0987\n",
      "\n",
      "Making predictions on the test data...\n",
      "\n",
      "Submission file 'submission_lightgbm_random.csv' created.\n"
     ]
    }
   ],
   "source": [
    "\n",
    "# Setting up the model and parameter distributions for random search\n",
    "lgbm_model = lgb.LGBMRegressor(random_state=42)\n",
    "\n",
    "# Define the distributions of hyperparameters to search\n",
    "param_distributions = {\n",
    "    'n_estimators': [500, 1000, 1500],\n",
    "    'learning_rate': [0.01, 0.05, 0.1],\n",
    "    'num_leaves': [31, 50, 70],\n",
    "    'max_depth': [5, 7, 9],\n",
    "    'subsample': [0.6, 0.8, 1.0],\n",
    "    'colsample_bytree': [0.6, 0.8, 1.0]\n",
    "}\n",
    "\n",
    "# Using RandomizedSearchCV with cross-validation\n",
    "#  5-fold cross-validation for a robust evaluation\n",
    "kf = KFold(n_splits=5, shuffle=True, random_state=42)\n",
    "\n",
    "# Set up the randomized search\n",
    "random_search = RandomizedSearchCV(\n",
    "    estimator=lgbm_model,\n",
    "    param_distributions=param_distributions,\n",
    "    n_iter=50,\n",
    "    scoring='neg_mean_squared_error',\n",
    "    cv=kf,\n",
    "    n_jobs=-1,\n",
    "    verbose=1,\n",
    "    random_state=42\n",
    ")\n",
    "\n",
    "# Fitting the random search to the data to find the best parameters\n",
    "print(\"Starting Randomized Search for LightGBM...\")\n",
    "random_search.fit(X_train_final, y_train)\n",
    "\n",
    "# Training the final model with the best parameters\n",
    "best_lgbm_model = random_search.best_estimator_\n",
    "print(f\"\\nBest LightGBM Parameters: {random_search.best_params_}\")\n",
    "\n",
    "# Calculating the best cross-validated RMSE\n",
    "best_rmse = np.sqrt(-random_search.best_score_)\n",
    "print(f\"Best Cross-Validation RMSE: {best_rmse:.4f}\")\n",
    "\n",
    "# Making predictions and creating the submission file\n",
    "print(\"\\nMaking predictions on the test data...\")\n",
    "final_predictions = best_lgbm_model.predict(X_test_final)\n",
    "\n",
    "submission_df = pd.DataFrame({\n",
    "    'id': test_ids,\n",
    "    'price': final_predictions\n",
    "})\n",
    "\n",
    "# Saving the submission file\n",
    "submission_df.to_csv('submission_lightgbm.csv', index=False)"
   ]
  },
  {
   "cell_type": "markdown",
   "metadata": {},
   "source": [
    "#### Building  LightGBM with CV"
   ]
  },
  {
   "cell_type": "code",
   "execution_count": 145,
   "metadata": {},
   "outputs": [
    {
     "name": "stdout",
     "output_type": "stream",
     "text": [
      "Starting LightGBM with CV, log-transform, and early stopping...\n",
      "\n",
      "===== Fold 1 =====\n",
      "[LightGBM] [Warning] Found whitespace in feature_names, replace with underlines\n",
      "[LightGBM] [Info] Auto-choosing row-wise multi-threading, the overhead of testing was 0.026211 seconds.\n",
      "You can set `force_row_wise=true` to remove the overhead.\n",
      "And if memory is not enough, you can set `force_col_wise=true`.\n",
      "[LightGBM] [Info] Total Bins 952\n",
      "[LightGBM] [Info] Number of data points in the train set: 150826, number of used features: 65\n",
      "[LightGBM] [Warning] Found whitespace in feature_names, replace with underlines\n",
      "[LightGBM] [Info] Start training from score 10.291542\n",
      "Training until validation scores don't improve for 100 rounds\n",
      "[200]\tvalid_0's rmse: 0.495735\tvalid_0's l2: 0.245753\n",
      "[400]\tvalid_0's rmse: 0.494815\tvalid_0's l2: 0.244842\n",
      "[600]\tvalid_0's rmse: 0.494384\tvalid_0's l2: 0.244416\n",
      "Early stopping, best iteration is:\n",
      "[615]\tvalid_0's rmse: 0.494365\tvalid_0's l2: 0.244397\n",
      "\n",
      "===== Fold 2 =====\n",
      "[LightGBM] [Warning] Found whitespace in feature_names, replace with underlines\n",
      "[LightGBM] [Info] Auto-choosing row-wise multi-threading, the overhead of testing was 0.016101 seconds.\n",
      "You can set `force_row_wise=true` to remove the overhead.\n",
      "And if memory is not enough, you can set `force_col_wise=true`.\n",
      "[LightGBM] [Info] Total Bins 952\n",
      "[LightGBM] [Info] Number of data points in the train set: 150826, number of used features: 65\n",
      "[LightGBM] [Warning] Found whitespace in feature_names, replace with underlines\n",
      "[LightGBM] [Info] Start training from score 10.291786\n",
      "Training until validation scores don't improve for 100 rounds\n",
      "[200]\tvalid_0's rmse: 0.491482\tvalid_0's l2: 0.241555\n",
      "[400]\tvalid_0's rmse: 0.490479\tvalid_0's l2: 0.24057\n",
      "[600]\tvalid_0's rmse: 0.489931\tvalid_0's l2: 0.240033\n",
      "[800]\tvalid_0's rmse: 0.48992\tvalid_0's l2: 0.240022\n",
      "Early stopping, best iteration is:\n",
      "[726]\tvalid_0's rmse: 0.48983\tvalid_0's l2: 0.239933\n",
      "\n",
      "===== Fold 3 =====\n",
      "[LightGBM] [Warning] Found whitespace in feature_names, replace with underlines\n",
      "[LightGBM] [Info] Auto-choosing row-wise multi-threading, the overhead of testing was 0.017144 seconds.\n",
      "You can set `force_row_wise=true` to remove the overhead.\n",
      "And if memory is not enough, you can set `force_col_wise=true`.\n",
      "[LightGBM] [Info] Total Bins 950\n",
      "[LightGBM] [Info] Number of data points in the train set: 150826, number of used features: 65\n",
      "[LightGBM] [Warning] Found whitespace in feature_names, replace with underlines\n",
      "[LightGBM] [Info] Start training from score 10.292427\n",
      "Training until validation scores don't improve for 100 rounds\n",
      "[200]\tvalid_0's rmse: 0.494198\tvalid_0's l2: 0.244232\n",
      "[400]\tvalid_0's rmse: 0.493387\tvalid_0's l2: 0.243431\n",
      "[600]\tvalid_0's rmse: 0.493003\tvalid_0's l2: 0.243052\n",
      "[800]\tvalid_0's rmse: 0.493069\tvalid_0's l2: 0.243117\n",
      "Early stopping, best iteration is:\n",
      "[714]\tvalid_0's rmse: 0.492899\tvalid_0's l2: 0.24295\n",
      "\n",
      "===== Fold 4 =====\n",
      "[LightGBM] [Warning] Found whitespace in feature_names, replace with underlines\n",
      "[LightGBM] [Info] Auto-choosing row-wise multi-threading, the overhead of testing was 0.017045 seconds.\n",
      "You can set `force_row_wise=true` to remove the overhead.\n",
      "And if memory is not enough, you can set `force_col_wise=true`.\n",
      "[LightGBM] [Info] Total Bins 951\n",
      "[LightGBM] [Info] Number of data points in the train set: 150827, number of used features: 65\n",
      "[LightGBM] [Warning] Found whitespace in feature_names, replace with underlines\n",
      "[LightGBM] [Info] Start training from score 10.290695\n",
      "Training until validation scores don't improve for 100 rounds\n",
      "[200]\tvalid_0's rmse: 0.491227\tvalid_0's l2: 0.241304\n",
      "[400]\tvalid_0's rmse: 0.490417\tvalid_0's l2: 0.240509\n",
      "[600]\tvalid_0's rmse: 0.490214\tvalid_0's l2: 0.240309\n",
      "Early stopping, best iteration is:\n",
      "[641]\tvalid_0's rmse: 0.490158\tvalid_0's l2: 0.240254\n",
      "\n",
      "===== Fold 5 =====\n",
      "[LightGBM] [Warning] Found whitespace in feature_names, replace with underlines\n",
      "[LightGBM] [Info] Auto-choosing row-wise multi-threading, the overhead of testing was 0.016880 seconds.\n",
      "You can set `force_row_wise=true` to remove the overhead.\n",
      "And if memory is not enough, you can set `force_col_wise=true`.\n",
      "[LightGBM] [Info] Total Bins 951\n",
      "[LightGBM] [Info] Number of data points in the train set: 150827, number of used features: 65\n",
      "[LightGBM] [Warning] Found whitespace in feature_names, replace with underlines\n",
      "[LightGBM] [Info] Start training from score 10.292487\n",
      "Training until validation scores don't improve for 100 rounds\n",
      "[200]\tvalid_0's rmse: 0.491573\tvalid_0's l2: 0.241644\n",
      "[400]\tvalid_0's rmse: 0.490664\tvalid_0's l2: 0.240751\n",
      "[600]\tvalid_0's rmse: 0.490375\tvalid_0's l2: 0.240468\n",
      "Early stopping, best iteration is:\n",
      "[665]\tvalid_0's rmse: 0.490328\tvalid_0's l2: 0.240421\n",
      "\n",
      "OOF RMSE (on log target): 0.4915\n",
      "OOF RMSE (back to original scale): 73408.35\n",
      "\n",
      "Submission file 'submission_lgbm_cv.csv' created successfully!\n",
      "       id         price\n",
      "0  188533  16544.528136\n",
      "1  188534  69123.622728\n",
      "2  188535  50352.061688\n",
      "3  188536  25642.457283\n",
      "4  188537  29498.043629\n"
     ]
    }
   ],
   "source": [
    "# 1. Log-transform target\n",
    "y_train_log = np.log1p(y_train)   # log(1 + price)\n",
    "\n",
    "# 2. K-Fold Setup\n",
    "\n",
    "kf = KFold(n_splits=5, shuffle=True, random_state=42)\n",
    "oof_preds = np.zeros(len(y_train_log))\n",
    "test_preds = np.zeros(len(X_test_final))\n",
    "\n",
    "print(\"Starting LightGBM with CV, log-transform, and early stopping...\")\n",
    "\n",
    "# =========================\n",
    "# 3. Cross-Validation Loop\n",
    "# =========================\n",
    "for fold, (train_idx, val_idx) in enumerate(kf.split(X_train_final, y_train_log)):\n",
    "    print(f\"\\n===== Fold {fold+1} =====\")\n",
    "    X_tr, X_val = X_train_final.iloc[train_idx], X_train_final.iloc[val_idx]\n",
    "    y_tr, y_val = y_train_log.iloc[train_idx], y_train_log.iloc[val_idx]\n",
    "\n",
    "    model = lgb.LGBMRegressor(\n",
    "        n_estimators=5000,       # high cap, early stopping will cut it short\n",
    "        learning_rate=0.05,\n",
    "        num_leaves=50,\n",
    "        max_depth=-1,\n",
    "        subsample=0.8,\n",
    "        colsample_bytree=0.8,\n",
    "        random_state=42,\n",
    "        n_jobs=-1\n",
    "    )\n",
    "\n",
    "    model.fit(\n",
    "        X_tr, y_tr,\n",
    "        eval_set=[(X_val, y_val)],\n",
    "        eval_metric=\"rmse\",\n",
    "        callbacks=[lgb.early_stopping(stopping_rounds=100), lgb.log_evaluation(200)]\n",
    "    )\n",
    "\n",
    "    # Validation predictions\n",
    "    val_pred = model.predict(X_val, num_iteration=model.best_iteration_)\n",
    "    oof_preds[val_idx] = val_pred\n",
    "\n",
    "    # Test predictions (averaged across folds)\n",
    "    test_preds += model.predict(X_test_final, num_iteration=model.best_iteration_) / kf.n_splits\n",
    "\n",
    "# =========================\n",
    "# 4. CV Performance\n",
    "# =========================\n",
    "cv_rmse_log = np.sqrt(mean_squared_error(y_train_log, oof_preds))\n",
    "cv_rmse_orig = np.sqrt(mean_squared_error(y_train, np.expm1(oof_preds)))\n",
    "\n",
    "print(f\"\\nOOF RMSE (on log target): {cv_rmse_log:.4f}\")\n",
    "print(f\"OOF RMSE (back to original scale): {cv_rmse_orig:.2f}\")\n",
    "\n",
    "# =========================\n",
    "# 5. Final Submission\n",
    "# =========================\n",
    "final_predictions = np.expm1(test_preds)  # reverse log-transform\n",
    "\n",
    "submission_df = pd.DataFrame({\n",
    "    'id': test_ids,\n",
    "    'price': final_predictions\n",
    "})\n",
    "\n",
    "submission_df.to_csv('submission_lgbm_cv.csv', index=False)\n",
    "print(\"\\nSubmission file 'submission_lgbm_cv.csv' created successfully!\")\n",
    "print(submission_df.head())\n"
   ]
  },
  {
   "cell_type": "markdown",
   "metadata": {},
   "source": [
    "## Building an Ensemble Model"
   ]
  },
  {
   "cell_type": "code",
   "execution_count": null,
   "metadata": {},
   "outputs": [],
   "source": [
    "best_baseline_model = RandomForestRegressor(\n",
    "    n_estimators=500,\n",
    "    max_depth=15,\n",
    "    random_state=42,\n",
    "    n_jobs=-1\n",
    ")\n",
    "\n",
    "best_baseline_model.fit(X_train_final, y_train)\n",
    "\n",
    "# Get predictions from baseline\n",
    "baseline_preds = best_baseline_model.predict(X_test_final)\n",
    "\n",
    "#b Blending Predictions\n",
    "# Try different weights (e.g. 0.7 baseline + 0.3 lgbm)\n",
    "final_preds = 0.7 * baseline_preds + 0.3 * lgbm_preds\n",
    "\n",
    "# 4. Create Submission\n",
    "submission_df = pd.DataFrame({\n",
    "    'id': test_ids,\n",
    "    'price': final_preds\n",
    "})\n",
    "\n",
    "submission_df.to_csv('submission_ensemble.csv', index=False)\n",
    "print(\"Submission file 'submission_ensemble.csv' created!\")\n"
   ]
  },
  {
   "cell_type": "code",
   "execution_count": null,
   "metadata": {},
   "outputs": [],
   "source": []
  }
 ],
 "metadata": {
  "colab": {
   "provenance": []
  },
  "kernelspec": {
   "display_name": "Python [conda env:base] *",
   "language": "python",
   "name": "conda-base-py"
  },
  "language_info": {
   "codemirror_mode": {
    "name": "ipython",
    "version": 3
   },
   "file_extension": ".py",
   "mimetype": "text/x-python",
   "name": "python",
   "nbconvert_exporter": "python",
   "pygments_lexer": "ipython3",
   "version": "3.12.7"
  }
 },
 "nbformat": 4,
 "nbformat_minor": 4
}
